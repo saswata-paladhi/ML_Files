{
 "cells": [
  {
   "cell_type": "code",
   "execution_count": 2,
   "source": [
    "import tensorflow as tf\r\n",
    "import pandas as pd\r\n",
    "import numpy as np\r\n",
    "import matplotlib.pyplot as plt"
   ],
   "outputs": [],
   "metadata": {}
  },
  {
   "cell_type": "code",
   "execution_count": 3,
   "source": [
    "df= pd.read_excel('Folds5x2_pp.xlsx')\r\n",
    "x= df.iloc[:, :-1]\r\n",
    "y= df.iloc[:, -1]\r\n",
    "x.shape"
   ],
   "outputs": [
    {
     "output_type": "execute_result",
     "data": {
      "text/plain": [
       "(9568, 4)"
      ]
     },
     "metadata": {},
     "execution_count": 3
    }
   ],
   "metadata": {}
  },
  {
   "cell_type": "code",
   "execution_count": 4,
   "source": [
    "from sklearn.model_selection import train_test_split\r\n",
    "x_train, x_test, y_train, y_test= train_test_split(x,y, test_size=0.2, random_state=0)"
   ],
   "outputs": [],
   "metadata": {}
  },
  {
   "cell_type": "code",
   "execution_count": 5,
   "source": [
    "x.head()"
   ],
   "outputs": [
    {
     "output_type": "execute_result",
     "data": {
      "text/plain": [
       "      AT      V       AP     RH\n",
       "0  14.96  41.76  1024.07  73.17\n",
       "1  25.18  62.96  1020.04  59.08\n",
       "2   5.11  39.40  1012.16  92.14\n",
       "3  20.86  57.32  1010.24  76.64\n",
       "4  10.82  37.50  1009.23  96.62"
      ],
      "text/html": [
       "<div>\n",
       "<style scoped>\n",
       "    .dataframe tbody tr th:only-of-type {\n",
       "        vertical-align: middle;\n",
       "    }\n",
       "\n",
       "    .dataframe tbody tr th {\n",
       "        vertical-align: top;\n",
       "    }\n",
       "\n",
       "    .dataframe thead th {\n",
       "        text-align: right;\n",
       "    }\n",
       "</style>\n",
       "<table border=\"1\" class=\"dataframe\">\n",
       "  <thead>\n",
       "    <tr style=\"text-align: right;\">\n",
       "      <th></th>\n",
       "      <th>AT</th>\n",
       "      <th>V</th>\n",
       "      <th>AP</th>\n",
       "      <th>RH</th>\n",
       "    </tr>\n",
       "  </thead>\n",
       "  <tbody>\n",
       "    <tr>\n",
       "      <th>0</th>\n",
       "      <td>14.96</td>\n",
       "      <td>41.76</td>\n",
       "      <td>1024.07</td>\n",
       "      <td>73.17</td>\n",
       "    </tr>\n",
       "    <tr>\n",
       "      <th>1</th>\n",
       "      <td>25.18</td>\n",
       "      <td>62.96</td>\n",
       "      <td>1020.04</td>\n",
       "      <td>59.08</td>\n",
       "    </tr>\n",
       "    <tr>\n",
       "      <th>2</th>\n",
       "      <td>5.11</td>\n",
       "      <td>39.40</td>\n",
       "      <td>1012.16</td>\n",
       "      <td>92.14</td>\n",
       "    </tr>\n",
       "    <tr>\n",
       "      <th>3</th>\n",
       "      <td>20.86</td>\n",
       "      <td>57.32</td>\n",
       "      <td>1010.24</td>\n",
       "      <td>76.64</td>\n",
       "    </tr>\n",
       "    <tr>\n",
       "      <th>4</th>\n",
       "      <td>10.82</td>\n",
       "      <td>37.50</td>\n",
       "      <td>1009.23</td>\n",
       "      <td>96.62</td>\n",
       "    </tr>\n",
       "  </tbody>\n",
       "</table>\n",
       "</div>"
      ]
     },
     "metadata": {},
     "execution_count": 5
    }
   ],
   "metadata": {}
  },
  {
   "cell_type": "code",
   "execution_count": 6,
   "source": [
    "ann= tf.keras.Sequential()"
   ],
   "outputs": [],
   "metadata": {}
  },
  {
   "cell_type": "code",
   "execution_count": 7,
   "source": [
    "ann.add(tf.keras.layers.Dense(units=6, activation='relu'))\r\n",
    "ann.add(tf.keras.layers.Dense(units=6, activation='relu'))"
   ],
   "outputs": [],
   "metadata": {}
  },
  {
   "cell_type": "code",
   "execution_count": 8,
   "source": [
    "ann.add(tf.keras.layers.Dense(units=1))"
   ],
   "outputs": [],
   "metadata": {}
  },
  {
   "cell_type": "code",
   "execution_count": 9,
   "source": [
    "ann.compile(optimizer='adam', loss='mean_squared_error')"
   ],
   "outputs": [],
   "metadata": {}
  },
  {
   "cell_type": "code",
   "execution_count": 10,
   "source": [
    "ann.fit(x_train, y_train, batch_size=32, epochs=100)"
   ],
   "outputs": [
    {
     "output_type": "stream",
     "name": "stdout",
     "text": [
      "Epoch 1/100\n",
      "240/240 [==============================] - 0s 622us/step - loss: 145274.7969\n",
      "Epoch 2/100\n",
      "240/240 [==============================] - 0s 447us/step - loss: 237.1207\n",
      "Epoch 3/100\n",
      "240/240 [==============================] - 0s 442us/step - loss: 219.9488\n",
      "Epoch 4/100\n",
      "240/240 [==============================] - 0s 484us/step - loss: 200.9461\n",
      "Epoch 5/100\n",
      "240/240 [==============================] - 0s 438us/step - loss: 180.9096\n",
      "Epoch 6/100\n",
      "240/240 [==============================] - 0s 467us/step - loss: 160.6255\n",
      "Epoch 7/100\n",
      "240/240 [==============================] - 0s 419us/step - loss: 141.7269\n",
      "Epoch 8/100\n",
      "240/240 [==============================] - 0s 497us/step - loss: 123.9487\n",
      "Epoch 9/100\n",
      "240/240 [==============================] - 0s 517us/step - loss: 108.2811\n",
      "Epoch 10/100\n",
      "240/240 [==============================] - 0s 459us/step - loss: 94.6159\n",
      "Epoch 11/100\n",
      "240/240 [==============================] - 0s 413us/step - loss: 82.9031\n",
      "Epoch 12/100\n",
      "240/240 [==============================] - 0s 472us/step - loss: 72.6130\n",
      "Epoch 13/100\n",
      "240/240 [==============================] - 0s 442us/step - loss: 64.5800\n",
      "Epoch 14/100\n",
      "240/240 [==============================] - 0s 442us/step - loss: 57.0492\n",
      "Epoch 15/100\n",
      "240/240 [==============================] - 0s 476us/step - loss: 50.6836\n",
      "Epoch 16/100\n",
      "240/240 [==============================] - 0s 447us/step - loss: 45.6861\n",
      "Epoch 17/100\n",
      "240/240 [==============================] - 0s 447us/step - loss: 41.4247\n",
      "Epoch 18/100\n",
      "240/240 [==============================] - 0s 417us/step - loss: 37.6877\n",
      "Epoch 19/100\n",
      "240/240 [==============================] - 0s 430us/step - loss: 35.0737\n",
      "Epoch 20/100\n",
      "240/240 [==============================] - 0s 396us/step - loss: 32.8599\n",
      "Epoch 21/100\n",
      "240/240 [==============================] - 0s 476us/step - loss: 31.5258\n",
      "Epoch 22/100\n",
      "240/240 [==============================] - 0s 697us/step - loss: 30.3377\n",
      "Epoch 23/100\n",
      "240/240 [==============================] - 0s 501us/step - loss: 29.6604\n",
      "Epoch 24/100\n",
      "240/240 [==============================] - 0s 421us/step - loss: 29.2678\n",
      "Epoch 25/100\n",
      "240/240 [==============================] - 0s 542us/step - loss: 28.8188\n",
      "Epoch 26/100\n",
      "240/240 [==============================] - 0s 484us/step - loss: 28.3348\n",
      "Epoch 27/100\n",
      "240/240 [==============================] - 0s 463us/step - loss: 28.5761\n",
      "Epoch 28/100\n",
      "240/240 [==============================] - 0s 530us/step - loss: 28.0881\n",
      "Epoch 29/100\n",
      "240/240 [==============================] - 0s 584us/step - loss: 28.1375\n",
      "Epoch 30/100\n",
      "240/240 [==============================] - 0s 501us/step - loss: 28.1826\n",
      "Epoch 31/100\n",
      "240/240 [==============================] - 0s 505us/step - loss: 27.5974\n",
      "Epoch 32/100\n",
      "240/240 [==============================] - 0s 426us/step - loss: 28.0276\n",
      "Epoch 33/100\n",
      "240/240 [==============================] - 0s 417us/step - loss: 27.1894\n",
      "Epoch 34/100\n",
      "240/240 [==============================] - 0s 459us/step - loss: 28.0415\n",
      "Epoch 35/100\n",
      "240/240 [==============================] - 0s 413us/step - loss: 28.1411\n",
      "Epoch 36/100\n",
      "240/240 [==============================] - 0s 455us/step - loss: 26.8172\n",
      "Epoch 37/100\n",
      "240/240 [==============================] - 0s 417us/step - loss: 28.1557\n",
      "Epoch 38/100\n",
      "240/240 [==============================] - 0s 467us/step - loss: 27.9070\n",
      "Epoch 39/100\n",
      "240/240 [==============================] - 0s 430us/step - loss: 27.5583\n",
      "Epoch 40/100\n",
      "240/240 [==============================] - 0s 405us/step - loss: 27.6453\n",
      "Epoch 41/100\n",
      "240/240 [==============================] - 0s 438us/step - loss: 27.6963\n",
      "Epoch 42/100\n",
      "240/240 [==============================] - 0s 434us/step - loss: 27.5429\n",
      "Epoch 43/100\n",
      "240/240 [==============================] - 0s 413us/step - loss: 27.4623\n",
      "Epoch 44/100\n",
      "240/240 [==============================] - 0s 461us/step - loss: 28.3544\n",
      "Epoch 45/100\n",
      "240/240 [==============================] - 0s 505us/step - loss: 27.4207\n",
      "Epoch 46/100\n",
      "240/240 [==============================] - 0s 613us/step - loss: 27.5584\n",
      "Epoch 47/100\n",
      "240/240 [==============================] - 0s 530us/step - loss: 27.9193\n",
      "Epoch 48/100\n",
      "240/240 [==============================] - 0s 447us/step - loss: 28.6334\n",
      "Epoch 49/100\n",
      "240/240 [==============================] - 0s 505us/step - loss: 27.8250\n",
      "Epoch 50/100\n",
      "240/240 [==============================] - 0s 451us/step - loss: 27.4532\n",
      "Epoch 51/100\n",
      "240/240 [==============================] - 0s 430us/step - loss: 27.6312\n",
      "Epoch 52/100\n",
      "240/240 [==============================] - 0s 576us/step - loss: 27.6167\n",
      "Epoch 53/100\n",
      "240/240 [==============================] - 0s 467us/step - loss: 28.6335\n",
      "Epoch 54/100\n",
      "240/240 [==============================] - 0s 430us/step - loss: 27.7604\n",
      "Epoch 55/100\n",
      "240/240 [==============================] - 0s 522us/step - loss: 29.1430\n",
      "Epoch 56/100\n",
      "240/240 [==============================] - 0s 467us/step - loss: 27.3362\n",
      "Epoch 57/100\n",
      "240/240 [==============================] - 0s 417us/step - loss: 27.6646\n",
      "Epoch 58/100\n",
      "240/240 [==============================] - 0s 438us/step - loss: 27.3744\n",
      "Epoch 59/100\n",
      "240/240 [==============================] - 0s 472us/step - loss: 28.3462\n",
      "Epoch 60/100\n",
      "240/240 [==============================] - 0s 509us/step - loss: 28.4505\n",
      "Epoch 61/100\n",
      "240/240 [==============================] - 0s 467us/step - loss: 27.9607\n",
      "Epoch 62/100\n",
      "240/240 [==============================] - 0s 438us/step - loss: 29.0446\n",
      "Epoch 63/100\n",
      "240/240 [==============================] - 0s 447us/step - loss: 27.7562\n",
      "Epoch 64/100\n",
      "240/240 [==============================] - 0s 438us/step - loss: 28.9547\n",
      "Epoch 65/100\n",
      "240/240 [==============================] - 0s 647us/step - loss: 27.9433\n",
      "Epoch 66/100\n",
      "240/240 [==============================] - 0s 509us/step - loss: 27.6579\n",
      "Epoch 67/100\n",
      "240/240 [==============================] - 0s 438us/step - loss: 27.3281\n",
      "Epoch 68/100\n",
      "240/240 [==============================] - 0s 421us/step - loss: 26.6519\n",
      "Epoch 69/100\n",
      "240/240 [==============================] - 0s 442us/step - loss: 27.9830\n",
      "Epoch 70/100\n",
      "240/240 [==============================] - 0s 451us/step - loss: 29.2063\n",
      "Epoch 71/100\n",
      "240/240 [==============================] - 0s 463us/step - loss: 27.7961\n",
      "Epoch 72/100\n",
      "240/240 [==============================] - 0s 451us/step - loss: 26.9820\n",
      "Epoch 73/100\n",
      "240/240 [==============================] - 0s 417us/step - loss: 27.6446\n",
      "Epoch 74/100\n",
      "240/240 [==============================] - 0s 459us/step - loss: 28.4593\n",
      "Epoch 75/100\n",
      "240/240 [==============================] - 0s 497us/step - loss: 27.3590\n",
      "Epoch 76/100\n",
      "240/240 [==============================] - 0s 480us/step - loss: 27.1268\n",
      "Epoch 77/100\n",
      "240/240 [==============================] - 0s 417us/step - loss: 28.5557\n",
      "Epoch 78/100\n",
      "240/240 [==============================] - 0s 442us/step - loss: 27.8053\n",
      "Epoch 79/100\n",
      "240/240 [==============================] - 0s 497us/step - loss: 27.8709\n",
      "Epoch 80/100\n",
      "240/240 [==============================] - 0s 509us/step - loss: 28.0480\n",
      "Epoch 81/100\n",
      "240/240 [==============================] - 0s 467us/step - loss: 27.1923\n",
      "Epoch 82/100\n",
      "240/240 [==============================] - 0s 542us/step - loss: 27.9388\n",
      "Epoch 83/100\n",
      "240/240 [==============================] - 0s 501us/step - loss: 26.9919\n",
      "Epoch 84/100\n",
      "240/240 [==============================] - 0s 467us/step - loss: 28.9525\n",
      "Epoch 85/100\n",
      "240/240 [==============================] - 0s 409us/step - loss: 28.7753\n",
      "Epoch 86/100\n",
      "240/240 [==============================] - 0s 388us/step - loss: 27.1748\n",
      "Epoch 87/100\n",
      "240/240 [==============================] - 0s 388us/step - loss: 29.3261\n",
      "Epoch 88/100\n",
      "240/240 [==============================] - 0s 409us/step - loss: 27.5315\n",
      "Epoch 89/100\n",
      "240/240 [==============================] - 0s 463us/step - loss: 28.0416\n",
      "Epoch 90/100\n",
      "240/240 [==============================] - 0s 401us/step - loss: 27.9525\n",
      "Epoch 91/100\n",
      "240/240 [==============================] - 0s 392us/step - loss: 27.0508\n",
      "Epoch 92/100\n",
      "240/240 [==============================] - 0s 380us/step - loss: 28.3859\n",
      "Epoch 93/100\n",
      "240/240 [==============================] - 0s 396us/step - loss: 29.0313\n",
      "Epoch 94/100\n",
      "240/240 [==============================] - 0s 384us/step - loss: 29.3691\n",
      "Epoch 95/100\n",
      "240/240 [==============================] - 0s 388us/step - loss: 28.0531\n",
      "Epoch 96/100\n",
      "240/240 [==============================] - 0s 380us/step - loss: 26.6804\n",
      "Epoch 97/100\n",
      "240/240 [==============================] - 0s 396us/step - loss: 27.4226\n",
      "Epoch 98/100\n",
      "240/240 [==============================] - 0s 601us/step - loss: 27.2914\n",
      "Epoch 99/100\n",
      "240/240 [==============================] - 0s 580us/step - loss: 27.0636\n",
      "Epoch 100/100\n",
      "240/240 [==============================] - 0s 509us/step - loss: 25.9522\n"
     ]
    },
    {
     "output_type": "execute_result",
     "data": {
      "text/plain": [
       "<tensorflow.python.keras.callbacks.History at 0x27b088e2df0>"
      ]
     },
     "metadata": {},
     "execution_count": 10
    }
   ],
   "metadata": {}
  },
  {
   "cell_type": "code",
   "execution_count": 11,
   "source": [
    "ann.predict(x_test)"
   ],
   "outputs": [
    {
     "output_type": "execute_result",
     "data": {
      "text/plain": [
       "array([[434.15958],\n",
       "       [465.11197],\n",
       "       [469.05005],\n",
       "       ...,\n",
       "       [476.9745 ],\n",
       "       [442.31598],\n",
       "       [461.26096]], dtype=float32)"
      ]
     },
     "metadata": {},
     "execution_count": 11
    }
   ],
   "metadata": {}
  },
  {
   "cell_type": "code",
   "execution_count": 12,
   "source": [
    "from sklearn.metrics import r2_score\r\n",
    "r2_score(y_test, ann.predict(x_test))"
   ],
   "outputs": [
    {
     "output_type": "execute_result",
     "data": {
      "text/plain": [
       "0.8864666318119395"
      ]
     },
     "metadata": {},
     "execution_count": 12
    }
   ],
   "metadata": {}
  },
  {
   "cell_type": "code",
   "execution_count": null,
   "source": [],
   "outputs": [],
   "metadata": {}
  }
 ],
 "metadata": {
  "interpreter": {
   "hash": "b83752dd2351e549d4486d00579c2754387b6552781a235cfc636d34e5e38ea9"
  },
  "kernelspec": {
   "display_name": "Python 3.9.5 64-bit",
   "name": "python3"
  },
  "language_info": {
   "codemirror_mode": {
    "name": "ipython",
    "version": 3
   },
   "file_extension": ".py",
   "mimetype": "text/x-python",
   "name": "python",
   "nbconvert_exporter": "python",
   "pygments_lexer": "ipython3",
   "version": "3.9.5"
  },
  "orig_nbformat": 4
 },
 "nbformat": 4,
 "nbformat_minor": 2
}