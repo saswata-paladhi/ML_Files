{
 "cells": [
  {
   "cell_type": "code",
   "execution_count": 62,
   "metadata": {},
   "outputs": [],
   "source": [
    "import numpy as np\n",
    "import pandas as pd\n",
    "import yfinance as yf\n",
    "from datetime import date\n",
    "from dateutil.relativedelta import relativedelta\n",
    "\n",
    "five_yrs_ago = date.today() - relativedelta(years=5)"
   ]
  },
  {
   "cell_type": "code",
   "execution_count": 63,
   "metadata": {},
   "outputs": [
    {
     "name": "stdout",
     "output_type": "stream",
     "text": [
      "[*********************100%***********************]  1 of 1 completed\n"
     ]
    },
    {
     "data": {
      "text/html": [
       "<div>\n",
       "<style scoped>\n",
       "    .dataframe tbody tr th:only-of-type {\n",
       "        vertical-align: middle;\n",
       "    }\n",
       "\n",
       "    .dataframe tbody tr th {\n",
       "        vertical-align: top;\n",
       "    }\n",
       "\n",
       "    .dataframe thead th {\n",
       "        text-align: right;\n",
       "    }\n",
       "</style>\n",
       "<table border=\"1\" class=\"dataframe\">\n",
       "  <thead>\n",
       "    <tr style=\"text-align: right;\">\n",
       "      <th></th>\n",
       "      <th>Open</th>\n",
       "      <th>High</th>\n",
       "      <th>Low</th>\n",
       "      <th>Close</th>\n",
       "      <th>Adj Close</th>\n",
       "      <th>Volume</th>\n",
       "    </tr>\n",
       "    <tr>\n",
       "      <th>Date</th>\n",
       "      <th></th>\n",
       "      <th></th>\n",
       "      <th></th>\n",
       "      <th></th>\n",
       "      <th></th>\n",
       "      <th></th>\n",
       "    </tr>\n",
       "  </thead>\n",
       "  <tbody>\n",
       "    <tr>\n",
       "      <th>2017-05-10</th>\n",
       "      <td>427.799988</td>\n",
       "      <td>433.000000</td>\n",
       "      <td>424.000000</td>\n",
       "      <td>432.299988</td>\n",
       "      <td>432.299988</td>\n",
       "      <td>5378402</td>\n",
       "    </tr>\n",
       "    <tr>\n",
       "      <th>2017-05-11</th>\n",
       "      <td>434.000000</td>\n",
       "      <td>434.500000</td>\n",
       "      <td>425.399994</td>\n",
       "      <td>427.450012</td>\n",
       "      <td>427.450012</td>\n",
       "      <td>4049649</td>\n",
       "    </tr>\n",
       "    <tr>\n",
       "      <th>2017-05-12</th>\n",
       "      <td>429.649994</td>\n",
       "      <td>433.799988</td>\n",
       "      <td>427.450012</td>\n",
       "      <td>430.850006</td>\n",
       "      <td>430.850006</td>\n",
       "      <td>3850940</td>\n",
       "    </tr>\n",
       "    <tr>\n",
       "      <th>2017-05-15</th>\n",
       "      <td>434.000000</td>\n",
       "      <td>434.000000</td>\n",
       "      <td>430.100006</td>\n",
       "      <td>431.899994</td>\n",
       "      <td>431.899994</td>\n",
       "      <td>1885702</td>\n",
       "    </tr>\n",
       "    <tr>\n",
       "      <th>2017-05-16</th>\n",
       "      <td>432.250000</td>\n",
       "      <td>439.500000</td>\n",
       "      <td>432.250000</td>\n",
       "      <td>437.250000</td>\n",
       "      <td>437.250000</td>\n",
       "      <td>3452072</td>\n",
       "    </tr>\n",
       "  </tbody>\n",
       "</table>\n",
       "</div>"
      ],
      "text/plain": [
       "                  Open        High         Low       Close   Adj Close  \\\n",
       "Date                                                                     \n",
       "2017-05-10  427.799988  433.000000  424.000000  432.299988  432.299988   \n",
       "2017-05-11  434.000000  434.500000  425.399994  427.450012  427.450012   \n",
       "2017-05-12  429.649994  433.799988  427.450012  430.850006  430.850006   \n",
       "2017-05-15  434.000000  434.000000  430.100006  431.899994  431.899994   \n",
       "2017-05-16  432.250000  439.500000  432.250000  437.250000  437.250000   \n",
       "\n",
       "             Volume  \n",
       "Date                 \n",
       "2017-05-10  5378402  \n",
       "2017-05-11  4049649  \n",
       "2017-05-12  3850940  \n",
       "2017-05-15  1885702  \n",
       "2017-05-16  3452072  "
      ]
     },
     "execution_count": 63,
     "metadata": {},
     "output_type": "execute_result"
    }
   ],
   "source": [
    "df= yf.download('TATAMOTORS.NS', start=five_yrs_ago.strftime(\"%Y-%m-%d\"), end= date.today().strftime(\"%Y-%m-%d\"))\n",
    "df.head()"
   ]
  },
  {
   "cell_type": "code",
   "execution_count": 64,
   "metadata": {},
   "outputs": [
    {
     "data": {
      "text/plain": [
       "Date\n",
       "2017-05-10    433.000000\n",
       "2017-05-11    434.500000\n",
       "2017-05-12    433.799988\n",
       "2017-05-15    434.000000\n",
       "2017-05-16    439.500000\n",
       "                 ...    \n",
       "2022-05-02    442.950012\n",
       "2022-05-04    440.600006\n",
       "2022-05-05    434.000000\n",
       "2022-05-06    420.200012\n",
       "2022-05-09    407.399994\n",
       "Name: High, Length: 1235, dtype: float64"
      ]
     },
     "execution_count": 64,
     "metadata": {},
     "output_type": "execute_result"
    }
   ],
   "source": [
    "df= df.loc[:, 'High']\n",
    "df"
   ]
  },
  {
   "cell_type": "code",
   "execution_count": 65,
   "metadata": {},
   "outputs": [
    {
     "data": {
      "text/plain": [
       "247"
      ]
     },
     "execution_count": 65,
     "metadata": {},
     "output_type": "execute_result"
    }
   ],
   "source": [
    "df= df.values.reshape(-1,1)\n",
    "df_train, df_test= df[:int(0.8*len(df)),0], df[int(0.8*len(df)):,0]\n",
    "len(df_test)"
   ]
  },
  {
   "cell_type": "code",
   "execution_count": 66,
   "metadata": {},
   "outputs": [],
   "source": [
    "from sklearn.preprocessing import MinMaxScaler"
   ]
  },
  {
   "cell_type": "code",
   "execution_count": 67,
   "metadata": {},
   "outputs": [],
   "source": [
    "scaler= MinMaxScaler(feature_range=(-1,1))\n",
    "scaled_df= scaler.fit_transform(df)"
   ]
  },
  {
   "cell_type": "code",
   "execution_count": 68,
   "metadata": {},
   "outputs": [],
   "source": [
    "x_train= []\n",
    "y_train= []\n",
    "time_step= 100\n",
    "for i in range(time_step, len(df_train)):\n",
    "    x_train.append(scaled_df[i-time_step:i,0])\n",
    "    y_train.append(scaled_df[i,0])"
   ]
  },
  {
   "cell_type": "code",
   "execution_count": 69,
   "metadata": {},
   "outputs": [],
   "source": [
    "x_train, y_train= np.array(x_train), np.array(y_train)"
   ]
  },
  {
   "cell_type": "code",
   "execution_count": 70,
   "metadata": {},
   "outputs": [],
   "source": [
    "x_train= np.reshape(x_train, (x_train.shape[0], x_train.shape[1],1))\n"
   ]
  },
  {
   "cell_type": "code",
   "execution_count": 71,
   "metadata": {},
   "outputs": [],
   "source": [
    "import torch\n",
    "import torch.nn as nn"
   ]
  },
  {
   "cell_type": "code",
   "execution_count": 72,
   "metadata": {},
   "outputs": [],
   "source": [
    "device= torch.device('cuda')"
   ]
  },
  {
   "cell_type": "code",
   "execution_count": 73,
   "metadata": {},
   "outputs": [],
   "source": [
    "x_train= torch.from_numpy(x_train).type(torch.Tensor)\n",
    "y_train= torch.from_numpy(y_train).type(torch.Tensor)"
   ]
  },
  {
   "cell_type": "code",
   "execution_count": 74,
   "metadata": {},
   "outputs": [],
   "source": [
    "y_train.shape\n",
    "y_train= np.reshape(y_train, (y_train.shape[0], 1))"
   ]
  },
  {
   "cell_type": "code",
   "execution_count": 75,
   "metadata": {},
   "outputs": [],
   "source": [
    "input_dim=1\n",
    "hidden_dim_lstm= 16\n",
    "num_layers_lstm= 2         #number of stacks of lstm\n",
    "output_dim= 1\n",
    "epochs_lstm= 1000"
   ]
  },
  {
   "cell_type": "code",
   "execution_count": 76,
   "metadata": {},
   "outputs": [],
   "source": [
    "class LSTM(nn.Module):\n",
    "    def __init__(self, input_dim, hidden_dim, num_layers, output_dim):\n",
    "        super(LSTM, self).__init__()\n",
    "        self.hidden_dim= hidden_dim\n",
    "        self.num_layers= num_layers\n",
    "        self.lstm= nn.LSTM(input_dim, hidden_dim, num_layers, batch_first= True)\n",
    "        self.fc= nn.Linear(hidden_dim, output_dim)          #fully connected layer after lstm\n",
    "    def forward(self, x):\n",
    "        h0= torch.zeros(self.num_layers, x.size(0), self.hidden_dim).requires_grad_().cuda()               #.requires_grad is for computing gradients\n",
    "        c0= torch.zeros(self.num_layers, x.size(0), self.hidden_dim).requires_grad_().cuda()\n",
    "        out, (hn,cn)= self.lstm(x, (h0.detach(), c0.detach()))\n",
    "        out= self.fc(out[:,-1,:])           #This represents the final state of the lstm as the output.\n",
    "        return out"
   ]
  },
  {
   "cell_type": "code",
   "execution_count": 77,
   "metadata": {},
   "outputs": [],
   "source": [
    "model_lstm= LSTM(input_dim= input_dim, hidden_dim= hidden_dim_lstm, output_dim= output_dim, num_layers= num_layers_lstm)\n",
    "criterion= torch.nn.MSELoss(reduction= 'mean')\n",
    "optimizer= torch.optim.Adam(model_lstm.parameters(), lr= 0.01)"
   ]
  },
  {
   "cell_type": "code",
   "execution_count": 78,
   "metadata": {},
   "outputs": [
    {
     "data": {
      "text/plain": [
       "LSTM(\n",
       "  (lstm): LSTM(1, 16, num_layers=2, batch_first=True)\n",
       "  (fc): Linear(in_features=16, out_features=1, bias=True)\n",
       ")"
      ]
     },
     "execution_count": 78,
     "metadata": {},
     "output_type": "execute_result"
    }
   ],
   "source": [
    "model_lstm.cuda()"
   ]
  },
  {
   "cell_type": "code",
   "execution_count": 79,
   "metadata": {},
   "outputs": [],
   "source": [
    "for e in range(epochs_lstm):\n",
    "    y_train_pred= model_lstm(x_train.cuda())\n",
    "    loss= criterion(y_train_pred, y_train.cuda())\n",
    "    optimizer.zero_grad()\n",
    "    loss.backward()         #Backpropogation\n",
    "    optimizer.step()        #Gradient descent step"
   ]
  },
  {
   "cell_type": "code",
   "execution_count": 80,
   "metadata": {},
   "outputs": [
    {
     "data": {
      "text/plain": [
       "LSTM(\n",
       "  (lstm): LSTM(1, 16, num_layers=2, batch_first=True)\n",
       "  (fc): Linear(in_features=16, out_features=1, bias=True)\n",
       ")"
      ]
     },
     "execution_count": 80,
     "metadata": {},
     "output_type": "execute_result"
    }
   ],
   "source": [
    "model_lstm.train()"
   ]
  },
  {
   "cell_type": "code",
   "execution_count": 81,
   "metadata": {},
   "outputs": [],
   "source": [
    "test_input= scaled_df[len(df)-len(df_test)-time_step:,0]"
   ]
  },
  {
   "cell_type": "code",
   "execution_count": 82,
   "metadata": {},
   "outputs": [],
   "source": [
    "x_test=[]\n",
    "for i in range(time_step, len(test_input)):\n",
    "    x_test.append(test_input[i-time_step:i])\n",
    "x_test= np.array(x_test)\n",
    "x_test= torch.from_numpy(np.reshape(x_test,( x_test.shape[0], x_test.shape[1],1))).type(torch.Tensor)"
   ]
  },
  {
   "cell_type": "code",
   "execution_count": 83,
   "metadata": {},
   "outputs": [],
   "source": [
    "y_test_pred_lstm= model_lstm(x_test.cuda())"
   ]
  },
  {
   "cell_type": "code",
   "execution_count": 84,
   "metadata": {},
   "outputs": [
    {
     "data": {
      "text/plain": [
       "[<matplotlib.lines.Line2D at 0x158cd480730>]"
      ]
     },
     "execution_count": 84,
     "metadata": {},
     "output_type": "execute_result"
    },
    {
     "data": {
      "image/png": "[encoded data removed]",
      "text/plain": [
       "<Figure size 432x288 with 1 Axes>"
      ]
     },
     "metadata": {
      "needs_background": "light"
     },
     "output_type": "display_data"
    }
   ],
   "source": [
    "import matplotlib.pyplot as plt\n",
    "pred_lstm= scaler.inverse_transform(y_test_pred_lstm.cpu().detach().numpy())\n",
    "plt.plot(df_test, color= 'green', label='Real')\n",
    "plt.plot(pred_lstm, color= 'red', label='Predicted')"
   ]
  },
  {
   "cell_type": "code",
   "execution_count": 85,
   "metadata": {},
   "outputs": [
    {
     "name": "stdout",
     "output_type": "stream",
     "text": [
      "Tomorrow's price will be 419.0067443847656\n"
     ]
    }
   ],
   "source": [
    "print(f'Tomorrow\\'s price will be {pred_lstm[-1,0]}')"
   ]
  },
  {
   "cell_type": "code",
   "execution_count": 86,
   "metadata": {},
   "outputs": [
    {
     "name": "stdout",
     "output_type": "stream",
     "text": [
      "0.961960856275634\n"
     ]
    }
   ],
   "source": [
    "from sklearn.metrics import r2_score\n",
    "print(r2_score(pred_lstm[:-1],df_test[1:]))"
   ]
  }
 ],
 "metadata": {
  "interpreter": {
   "hash": "e253a55b870ed4d0fbda93423edbb5e7443854cc02c4fbfea583b44a042f0c5a"
  },
  "kernelspec": {
   "display_name": "Python 3.9.5 64-bit (system)",
   "language": "python",
   "name": "python3"
  },
  "language_info": {
   "codemirror_mode": {
    "name": "ipython",
    "version": 3
   },
   "file_extension": ".py",
   "mimetype": "text/x-python",
   "name": "python",
   "nbconvert_exporter": "python",
   "pygments_lexer": "ipython3",
   "version": "3.9.5"
  },
  "orig_nbformat": 4
 },
 "nbformat": 4,
 "nbformat_minor": 2
}
