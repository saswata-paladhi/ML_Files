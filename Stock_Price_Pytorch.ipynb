{
 "cells": [
  {
   "cell_type": "code",
   "execution_count": 1,
   "metadata": {},
   "outputs": [],
   "source": [
    "import numpy as np\n",
    "import pandas as pd\n",
    "import yfinance as yf\n",
    "from datetime import date\n",
    "from dateutil.relativedelta import relativedelta\n",
    "import matplotlib.pyplot as plt\n",
    "five_yrs_ago = date.today() - relativedelta(years=5)"
   ]
  },
  {
   "cell_type": "code",
   "execution_count": 2,
   "metadata": {},
   "outputs": [
    {
     "name": "stdout",
     "output_type": "stream",
     "text": [
      "[*********************100%***********************]  1 of 1 completed\n"
     ]
    },
    {
     "data": {
      "text/html": [
       "<div>\n",
       "<style scoped>\n",
       "    .dataframe tbody tr th:only-of-type {\n",
       "        vertical-align: middle;\n",
       "    }\n",
       "\n",
       "    .dataframe tbody tr th {\n",
       "        vertical-align: top;\n",
       "    }\n",
       "\n",
       "    .dataframe thead th {\n",
       "        text-align: right;\n",
       "    }\n",
       "</style>\n",
       "<table border=\"1\" class=\"dataframe\">\n",
       "  <thead>\n",
       "    <tr style=\"text-align: right;\">\n",
       "      <th></th>\n",
       "      <th>Open</th>\n",
       "      <th>High</th>\n",
       "      <th>Low</th>\n",
       "      <th>Close</th>\n",
       "      <th>Adj Close</th>\n",
       "      <th>Volume</th>\n",
       "    </tr>\n",
       "    <tr>\n",
       "      <th>Date</th>\n",
       "      <th></th>\n",
       "      <th></th>\n",
       "      <th></th>\n",
       "      <th></th>\n",
       "      <th></th>\n",
       "      <th></th>\n",
       "    </tr>\n",
       "  </thead>\n",
       "  <tbody>\n",
       "    <tr>\n",
       "      <th>2017-09-04</th>\n",
       "      <td>393.000000</td>\n",
       "      <td>396.049988</td>\n",
       "      <td>380.500000</td>\n",
       "      <td>383.399994</td>\n",
       "      <td>383.399994</td>\n",
       "      <td>8433560</td>\n",
       "    </tr>\n",
       "    <tr>\n",
       "      <th>2017-09-05</th>\n",
       "      <td>385.700012</td>\n",
       "      <td>389.500000</td>\n",
       "      <td>383.399994</td>\n",
       "      <td>388.149994</td>\n",
       "      <td>388.149994</td>\n",
       "      <td>4477993</td>\n",
       "    </tr>\n",
       "    <tr>\n",
       "      <th>2017-09-06</th>\n",
       "      <td>385.000000</td>\n",
       "      <td>386.700012</td>\n",
       "      <td>381.850006</td>\n",
       "      <td>382.700012</td>\n",
       "      <td>382.700012</td>\n",
       "      <td>5953907</td>\n",
       "    </tr>\n",
       "    <tr>\n",
       "      <th>2017-09-07</th>\n",
       "      <td>383.700012</td>\n",
       "      <td>384.399994</td>\n",
       "      <td>376.000000</td>\n",
       "      <td>378.149994</td>\n",
       "      <td>378.149994</td>\n",
       "      <td>7938665</td>\n",
       "    </tr>\n",
       "    <tr>\n",
       "      <th>2017-09-08</th>\n",
       "      <td>381.000000</td>\n",
       "      <td>381.799988</td>\n",
       "      <td>374.049988</td>\n",
       "      <td>375.049988</td>\n",
       "      <td>375.049988</td>\n",
       "      <td>7471355</td>\n",
       "    </tr>\n",
       "  </tbody>\n",
       "</table>\n",
       "</div>"
      ],
      "text/plain": [
       "                  Open        High         Low       Close   Adj Close  \\\n",
       "Date                                                                     \n",
       "2017-09-04  393.000000  396.049988  380.500000  383.399994  383.399994   \n",
       "2017-09-05  385.700012  389.500000  383.399994  388.149994  388.149994   \n",
       "2017-09-06  385.000000  386.700012  381.850006  382.700012  382.700012   \n",
       "2017-09-07  383.700012  384.399994  376.000000  378.149994  378.149994   \n",
       "2017-09-08  381.000000  381.799988  374.049988  375.049988  375.049988   \n",
       "\n",
       "             Volume  \n",
       "Date                 \n",
       "2017-09-04  8433560  \n",
       "2017-09-05  4477993  \n",
       "2017-09-06  5953907  \n",
       "2017-09-07  7938665  \n",
       "2017-09-08  7471355  "
      ]
     },
     "execution_count": 2,
     "metadata": {},
     "output_type": "execute_result"
    }
   ],
   "source": [
    "df= yf.download('TATAmOTORS.NS', start=five_yrs_ago.strftime(\"%Y-%m-%d\"), end= date.today().strftime(\"%Y-%m-%d\"))\n",
    "df.head()"
   ]
  },
  {
   "cell_type": "code",
   "execution_count": 3,
   "metadata": {},
   "outputs": [
    {
     "data": {
      "text/plain": [
       "Date\n",
       "2017-09-04    383.399994\n",
       "2017-09-05    388.149994\n",
       "2017-09-06    382.700012\n",
       "2017-09-07    378.149994\n",
       "2017-09-08    375.049988\n",
       "                 ...    \n",
       "2022-08-26    465.049988\n",
       "2022-08-29    453.350006\n",
       "2022-08-30    471.100006\n",
       "2022-09-01    466.899994\n",
       "2022-09-02    461.750000\n",
       "Name: Adj Close, Length: 1236, dtype: float64"
      ]
     },
     "execution_count": 3,
     "metadata": {},
     "output_type": "execute_result"
    }
   ],
   "source": [
    "x= 'Adj Close'\n",
    "df= df.loc[:, x]\n",
    "df"
   ]
  },
  {
   "cell_type": "code",
   "execution_count": 4,
   "metadata": {},
   "outputs": [
    {
     "data": {
      "text/plain": [
       "248"
      ]
     },
     "execution_count": 4,
     "metadata": {},
     "output_type": "execute_result"
    }
   ],
   "source": [
    "df= df.values.reshape(-1,1)\n",
    "df_train, df_valid, df_test= df[:int(0.6*len(df)),0], df[int(0.6*len(df)):int(0.8*len(df)),0], df[int(0.8*len(df)):,0]\n",
    "len(df_test)"
   ]
  },
  {
   "cell_type": "code",
   "execution_count": 5,
   "metadata": {},
   "outputs": [],
   "source": [
    "from sklearn.preprocessing import MinMaxScaler"
   ]
  },
  {
   "cell_type": "code",
   "execution_count": 6,
   "metadata": {},
   "outputs": [],
   "source": [
    "scaler= MinMaxScaler(feature_range=(-1,1))\n",
    "scaled_df= scaler.fit_transform(df)"
   ]
  },
  {
   "cell_type": "code",
   "execution_count": 66,
   "metadata": {},
   "outputs": [],
   "source": [
    "x_train= []\n",
    "y_train= []\n",
    "time_step= 60\n",
    "for i in range(time_step, len(df_train)):\n",
    "    x_train.append(scaled_df[i-time_step:i,0])\n",
    "    y_train.append(scaled_df[i,0])"
   ]
  },
  {
   "cell_type": "code",
   "execution_count": 67,
   "metadata": {},
   "outputs": [],
   "source": [
    "x_train, y_train= np.array(x_train), np.array(y_train)"
   ]
  },
  {
   "cell_type": "code",
   "execution_count": 68,
   "metadata": {},
   "outputs": [],
   "source": [
    "x_train= np.reshape(x_train, (x_train.shape[0], x_train.shape[1],1))\n"
   ]
  },
  {
   "cell_type": "code",
   "execution_count": 69,
   "metadata": {},
   "outputs": [],
   "source": [
    "import torch\n",
    "import torch.nn as nn"
   ]
  },
  {
   "cell_type": "code",
   "execution_count": 70,
   "metadata": {},
   "outputs": [],
   "source": [
    "device= torch.device('cuda')"
   ]
  },
  {
   "cell_type": "code",
   "execution_count": 71,
   "metadata": {},
   "outputs": [],
   "source": [
    "x_train= torch.from_numpy(x_train).type(torch.Tensor)\n",
    "y_train= torch.from_numpy(y_train).type(torch.Tensor)"
   ]
  },
  {
   "cell_type": "code",
   "execution_count": 72,
   "metadata": {},
   "outputs": [],
   "source": [
    "y_train.shape\n",
    "y_train= np.reshape(y_train, (y_train.shape[0], 1))"
   ]
  },
  {
   "cell_type": "code",
   "execution_count": 73,
   "metadata": {},
   "outputs": [],
   "source": [
    "input_dim=1\n",
    "hidden_dim_lstm= 16\n",
    "num_layers_lstm= 3         #number of stacks of lstm\n",
    "output_dim= 1\n",
    "epochs_lstm= 1000"
   ]
  },
  {
   "cell_type": "code",
   "execution_count": 74,
   "metadata": {},
   "outputs": [],
   "source": [
    "class LSTM(nn.Module):\n",
    "    def __init__(self, input_dim, hidden_dim, num_layers, output_dim):\n",
    "        super(LSTM, self).__init__()\n",
    "        self.hidden_dim= hidden_dim\n",
    "        self.num_layers= num_layers\n",
    "        self.lstm= nn.LSTM(input_dim, hidden_dim, num_layers, batch_first= True)\n",
    "        self.fc= nn.Linear(hidden_dim, output_dim)          #fully connected layer after lstm\n",
    "    def forward(self, x):\n",
    "        h0= torch.zeros(self.num_layers, x.size(0), self.hidden_dim).requires_grad_().cuda()               #.requires_grad is for computing gradients\n",
    "        c0= torch.zeros(self.num_layers, x.size(0), self.hidden_dim).requires_grad_().cuda()\n",
    "        out, (hn,cn)= self.lstm(x, (h0.detach(), c0.detach()))\n",
    "        out= self.fc(out[:,-1,:])           #This represents the final state of the lstm as the output.\n",
    "        return out"
   ]
  },
  {
   "cell_type": "code",
   "execution_count": 75,
   "metadata": {},
   "outputs": [],
   "source": [
    "model_lstm= LSTM(input_dim= input_dim, hidden_dim= hidden_dim_lstm, output_dim= output_dim, num_layers= num_layers_lstm)\n",
    "criterion= torch.nn.MSELoss(reduction= 'mean')\n",
    "optimizer= torch.optim.Adam(model_lstm.parameters(), lr= 0.01)"
   ]
  },
  {
   "cell_type": "code",
   "execution_count": 76,
   "metadata": {},
   "outputs": [
    {
     "data": {
      "text/plain": [
       "LSTM(\n",
       "  (lstm): LSTM(1, 16, num_layers=3, batch_first=True)\n",
       "  (fc): Linear(in_features=16, out_features=1, bias=True)\n",
       ")"
      ]
     },
     "execution_count": 76,
     "metadata": {},
     "output_type": "execute_result"
    }
   ],
   "source": [
    "model_lstm.cuda()"
   ]
  },
  {
   "cell_type": "code",
   "execution_count": 77,
   "metadata": {},
   "outputs": [],
   "source": [
    "for e in range(epochs_lstm):\n",
    "    y_train_pred= model_lstm(x_train.cuda())\n",
    "    loss= criterion(y_train_pred, y_train.cuda())\n",
    "    optimizer.zero_grad()\n",
    "    loss.backward()         #Backpropogation\n",
    "    optimizer.step()        #Gradient descent step"
   ]
  },
  {
   "cell_type": "code",
   "execution_count": 78,
   "metadata": {},
   "outputs": [
    {
     "data": {
      "text/plain": [
       "LSTM(\n",
       "  (lstm): LSTM(1, 16, num_layers=3, batch_first=True)\n",
       "  (fc): Linear(in_features=16, out_features=1, bias=True)\n",
       ")"
      ]
     },
     "execution_count": 78,
     "metadata": {},
     "output_type": "execute_result"
    }
   ],
   "source": [
    "model_lstm.train()"
   ]
  },
  {
   "cell_type": "code",
   "execution_count": 79,
   "metadata": {},
   "outputs": [],
   "source": [
    "#torch.save(model_lstm, 'Price_Pred_LSTM.pt')"
   ]
  },
  {
   "cell_type": "code",
   "execution_count": 80,
   "metadata": {},
   "outputs": [],
   "source": [
    "valid_input= scaled_df[len(df)-len(df_valid)-time_step:len(df)-len(df_test),0]"
   ]
  },
  {
   "cell_type": "code",
   "execution_count": 81,
   "metadata": {},
   "outputs": [
    {
     "data": {
      "text/plain": [
       "(59,)"
      ]
     },
     "execution_count": 81,
     "metadata": {},
     "output_type": "execute_result"
    }
   ],
   "source": [
    "valid_input.shape"
   ]
  },
  {
   "cell_type": "code",
   "execution_count": 82,
   "metadata": {},
   "outputs": [],
   "source": [
    "# x_valid=[]\n",
    "# for i in range(time_step, len(valid_input)):\n",
    "#     print(valid_input.iloc[i-time_step:i])\n",
    "#     x_valid.append(valid_input[i-time_step:i])\n",
    "# x_valid= np.array(x_valid)\n",
    "# print(x_valid.shape)\n",
    "# x_valid= torch.from_numpy(np.reshape(x_valid,(x_valid.shape[0], x_valid.shape[1],1))).type(torch.Tensor)"
   ]
  },
  {
   "cell_type": "code",
   "execution_count": 83,
   "metadata": {},
   "outputs": [],
   "source": [
    "test_input= scaled_df[len(df)-len(df_test)-time_step:,0]"
   ]
  },
  {
   "cell_type": "code",
   "execution_count": 84,
   "metadata": {},
   "outputs": [
    {
     "data": {
      "text/plain": [
       "(308,)"
      ]
     },
     "execution_count": 84,
     "metadata": {},
     "output_type": "execute_result"
    }
   ],
   "source": [
    "test_input.shape"
   ]
  },
  {
   "cell_type": "code",
   "execution_count": 85,
   "metadata": {},
   "outputs": [
    {
     "name": "stdout",
     "output_type": "stream",
     "text": [
      "(248, 60)\n"
     ]
    }
   ],
   "source": [
    "x_test=[]\n",
    "for i in range(time_step, len(test_input)):\n",
    "    x_test.append(test_input[i-time_step:i])\n",
    "x_test= np.array(x_test)\n",
    "print(x_test.shape)\n",
    "x_test= torch.from_numpy(np.reshape(x_test,( x_test.shape[0], x_test.shape[1],1))).type(torch.Tensor)"
   ]
  },
  {
   "cell_type": "code",
   "execution_count": 86,
   "metadata": {},
   "outputs": [
    {
     "data": {
      "text/plain": [
       "list"
      ]
     },
     "execution_count": 86,
     "metadata": {},
     "output_type": "execute_result"
    }
   ],
   "source": [
    "type(list(x_test))"
   ]
  },
  {
   "cell_type": "code",
   "execution_count": 87,
   "metadata": {},
   "outputs": [],
   "source": [
    "from sklearn.metrics import r2_score\n",
    "\n",
    "def plot_graph(df_type, x_type, model_lstm):\n",
    "    pred= scaler.inverse_transform(model_lstm(x_type.cuda()).cpu().detach().numpy())\n",
    "    plt.plot(df_type, color= 'green', label='Real')\n",
    "    plt.plot(pred, color= 'red', label='Predicted')\n",
    "    #print(r2_score(pred[:-1],df_type[1:]))"
   ]
  },
  {
   "cell_type": "code",
   "execution_count": 88,
   "metadata": {},
   "outputs": [
    {
     "data": {
      "image/png": "[encoded data removed]",
      "text/plain": [
       "<Figure size 432x288 with 1 Axes>"
      ]
     },
     "metadata": {
      "needs_background": "light"
     },
     "output_type": "display_data"
    }
   ],
   "source": [
    "plot_graph(df_train, x_train, model_lstm)"
   ]
  },
  {
   "cell_type": "code",
   "execution_count": 89,
   "metadata": {},
   "outputs": [],
   "source": [
    "#plot_graph(df_valid, x_valid)"
   ]
  },
  {
   "cell_type": "code",
   "execution_count": 90,
   "metadata": {},
   "outputs": [
    {
     "data": {
      "image/png": "[encoded data removed]",
      "text/plain": [
       "<Figure size 432x288 with 1 Axes>"
      ]
     },
     "metadata": {
      "needs_background": "light"
     },
     "output_type": "display_data"
    }
   ],
   "source": [
    "plot_graph(df_test, x_test, model_lstm)"
   ]
  },
  {
   "cell_type": "code",
   "execution_count": 91,
   "metadata": {},
   "outputs": [],
   "source": [
    "#print(f'Tomorrow\\'s price will be {pred_lstm[-1,0]}')"
   ]
  },
  {
   "cell_type": "code",
   "execution_count": 92,
   "metadata": {},
   "outputs": [],
   "source": [
    "#model= torch.load('Price_Pred_LSTM.pt')"
   ]
  },
  {
   "cell_type": "code",
   "execution_count": 93,
   "metadata": {},
   "outputs": [],
   "source": [
    "x_forecast= np.array(x_test)[-1].reshape((1,time_step,1))\n",
    "forecast_lst=[]\n",
    "x= torch.from_numpy(x_forecast).type(torch.Tensor)\n",
    "for i in range(time_step):\n",
    "    forecast= scaler.inverse_transform(model_lstm(x.cuda()).cpu().detach().numpy())\n",
    "    x= x.numpy()\n",
    "    x[0]= scaler.inverse_transform(x[0])\n",
    "    y= x[0,1:]\n",
    "    y= np.append(y, forecast)\n",
    "    x[0]= y.reshape(time_step,1)\n",
    "    forecast_lst.append(forecast[0,0])\n",
    "    x[0]= scaler.transform(x[0])\n",
    "    x= torch.from_numpy(x).type(torch.Tensor)"
   ]
  },
  {
   "cell_type": "code",
   "execution_count": 94,
   "metadata": {},
   "outputs": [
    {
     "data": {
      "text/plain": [
       "[<matplotlib.lines.Line2D at 0x1553d6002b0>]"
      ]
     },
     "execution_count": 94,
     "metadata": {},
     "output_type": "execute_result"
    },
    {
     "data": {
      "image/png": "[encoded data removed]",
      "text/plain": [
       "<Figure size 432x288 with 1 Axes>"
      ]
     },
     "metadata": {
      "needs_background": "light"
     },
     "output_type": "display_data"
    }
   ],
   "source": [
    "plt.plot(forecast_lst)"
   ]
  },
  {
   "cell_type": "code",
   "execution_count": null,
   "metadata": {},
   "outputs": [],
   "source": []
  }
 ],
 "metadata": {
  "interpreter": {
   "hash": "e253a55b870ed4d0fbda93423edbb5e7443854cc02c4fbfea583b44a042f0c5a"
  },
  "kernelspec": {
   "display_name": "Python 3.9.5 64-bit (system)",
   "language": "python",
   "name": "python3"
  },
  "language_info": {
   "codemirror_mode": {
    "name": "ipython",
    "version": 3
   },
   "file_extension": ".py",
   "mimetype": "text/x-python",
   "name": "python",
   "nbconvert_exporter": "python",
   "pygments_lexer": "ipython3",
   "version": "3.9.5"
  },
  "orig_nbformat": 4
 },
 "nbformat": 4,
 "nbformat_minor": 2
}
