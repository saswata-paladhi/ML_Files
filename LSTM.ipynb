{
 "cells": [
  {
   "cell_type": "code",
   "execution_count": 1,
   "metadata": {},
   "outputs": [],
   "source": [
    "import numpy as np\n",
    "import pandas as pd\n",
    "import matplotlib.pyplot as plt\n",
    "train_data= pd.read_csv(r'C:\\Users\\saswa\\saswata\\Part 3 - Recurrent Neural Networks\\Google_Stock_Price_Train.csv')"
   ]
  },
  {
   "cell_type": "code",
   "execution_count": 2,
   "metadata": {},
   "outputs": [
    {
     "data": {
      "text/html": [
       "<div>\n",
       "<style scoped>\n",
       "    .dataframe tbody tr th:only-of-type {\n",
       "        vertical-align: middle;\n",
       "    }\n",
       "\n",
       "    .dataframe tbody tr th {\n",
       "        vertical-align: top;\n",
       "    }\n",
       "\n",
       "    .dataframe thead th {\n",
       "        text-align: right;\n",
       "    }\n",
       "</style>\n",
       "<table border=\"1\" class=\"dataframe\">\n",
       "  <thead>\n",
       "    <tr style=\"text-align: right;\">\n",
       "      <th></th>\n",
       "      <th>Date</th>\n",
       "      <th>Open</th>\n",
       "      <th>High</th>\n",
       "      <th>Low</th>\n",
       "      <th>Close</th>\n",
       "      <th>Volume</th>\n",
       "    </tr>\n",
       "  </thead>\n",
       "  <tbody>\n",
       "    <tr>\n",
       "      <th>0</th>\n",
       "      <td>1/3/2012</td>\n",
       "      <td>325.25</td>\n",
       "      <td>332.83</td>\n",
       "      <td>324.97</td>\n",
       "      <td>663.59</td>\n",
       "      <td>7,380,500</td>\n",
       "    </tr>\n",
       "    <tr>\n",
       "      <th>1</th>\n",
       "      <td>1/4/2012</td>\n",
       "      <td>331.27</td>\n",
       "      <td>333.87</td>\n",
       "      <td>329.08</td>\n",
       "      <td>666.45</td>\n",
       "      <td>5,749,400</td>\n",
       "    </tr>\n",
       "    <tr>\n",
       "      <th>2</th>\n",
       "      <td>1/5/2012</td>\n",
       "      <td>329.83</td>\n",
       "      <td>330.75</td>\n",
       "      <td>326.89</td>\n",
       "      <td>657.21</td>\n",
       "      <td>6,590,300</td>\n",
       "    </tr>\n",
       "    <tr>\n",
       "      <th>3</th>\n",
       "      <td>1/6/2012</td>\n",
       "      <td>328.34</td>\n",
       "      <td>328.77</td>\n",
       "      <td>323.68</td>\n",
       "      <td>648.24</td>\n",
       "      <td>5,405,900</td>\n",
       "    </tr>\n",
       "    <tr>\n",
       "      <th>4</th>\n",
       "      <td>1/9/2012</td>\n",
       "      <td>322.04</td>\n",
       "      <td>322.29</td>\n",
       "      <td>309.46</td>\n",
       "      <td>620.76</td>\n",
       "      <td>11,688,800</td>\n",
       "    </tr>\n",
       "  </tbody>\n",
       "</table>\n",
       "</div>"
      ],
      "text/plain": [
       "       Date    Open    High     Low   Close      Volume\n",
       "0  1/3/2012  325.25  332.83  324.97  663.59   7,380,500\n",
       "1  1/4/2012  331.27  333.87  329.08  666.45   5,749,400\n",
       "2  1/5/2012  329.83  330.75  326.89  657.21   6,590,300\n",
       "3  1/6/2012  328.34  328.77  323.68  648.24   5,405,900\n",
       "4  1/9/2012  322.04  322.29  309.46  620.76  11,688,800"
      ]
     },
     "execution_count": 2,
     "metadata": {},
     "output_type": "execute_result"
    }
   ],
   "source": [
    "train_data.head()"
   ]
  },
  {
   "cell_type": "code",
   "execution_count": 3,
   "metadata": {},
   "outputs": [
    {
     "data": {
      "text/plain": [
       "(1258, 1)"
      ]
     },
     "execution_count": 3,
     "metadata": {},
     "output_type": "execute_result"
    }
   ],
   "source": [
    "train_set = train_data.iloc[:, 1:2].values                   #To keep it as 2D array\n",
    "train_set.shape"
   ]
  },
  {
   "cell_type": "code",
   "execution_count": 4,
   "metadata": {},
   "outputs": [],
   "source": [
    "from sklearn.preprocessing import MinMaxScaler"
   ]
  },
  {
   "cell_type": "code",
   "execution_count": 5,
   "metadata": {},
   "outputs": [],
   "source": [
    "scaler= MinMaxScaler(feature_range=(0,1))           #here we are going to normalise the train_data thats why range is (0,1)\n",
    "training_set_scaled= scaler.fit_transform(train_set)"
   ]
  },
  {
   "cell_type": "code",
   "execution_count": 6,
   "metadata": {},
   "outputs": [],
   "source": [
    "'''\n",
    "Here we will be using timestep for the training data. Here its 60. Which means at a time t, we will use 60 business day datas before t for predicting the out at t+1. So here \n",
    "one timestep is 1 business day.\n",
    "'''\n",
    "x_train= []\n",
    "y_train= []\n",
    "for i in range(60, 1258):\n",
    "    x_train.append(training_set_scaled[i-60: i,0])\n",
    "    y_train.append(training_set_scaled[i,0])"
   ]
  },
  {
   "cell_type": "code",
   "execution_count": 7,
   "metadata": {},
   "outputs": [],
   "source": [
    "x_train, y_train= np.array(x_train), np.array(y_train)"
   ]
  },
  {
   "cell_type": "code",
   "execution_count": 8,
   "metadata": {},
   "outputs": [
    {
     "data": {
      "text/plain": [
       "array([0.08627874, 0.08471612, 0.07454052, ..., 0.95725128, 0.93796041,\n",
       "       0.93688146])"
      ]
     },
     "execution_count": 8,
     "metadata": {},
     "output_type": "execute_result"
    }
   ],
   "source": [
    "y_train"
   ]
  },
  {
   "cell_type": "code",
   "execution_count": 9,
   "metadata": {},
   "outputs": [
    {
     "data": {
      "text/plain": [
       "(1198, 60)"
      ]
     },
     "execution_count": 9,
     "metadata": {},
     "output_type": "execute_result"
    }
   ],
   "source": [
    "x_train.shape"
   ]
  },
  {
   "cell_type": "code",
   "execution_count": 10,
   "metadata": {},
   "outputs": [],
   "source": [
    "x_train= np.reshape(x_train, (x_train.shape[0], x_train.shape[1], 1))                     #This is done so correct its dimension before inputing inside a rnn using keras which is (batch_size, timestep, n_inputs)"
   ]
  },
  {
   "cell_type": "code",
   "execution_count": 11,
   "metadata": {},
   "outputs": [
    {
     "data": {
      "text/plain": [
       "array([[[0.08581368],\n",
       "        [0.09701243],\n",
       "        [0.09433366],\n",
       "        ...,\n",
       "        [0.07846566],\n",
       "        [0.08034452],\n",
       "        [0.08497656]],\n",
       "\n",
       "       [[0.09701243],\n",
       "        [0.09433366],\n",
       "        [0.09156187],\n",
       "        ...,\n",
       "        [0.08034452],\n",
       "        [0.08497656],\n",
       "        [0.08627874]],\n",
       "\n",
       "       [[0.09433366],\n",
       "        [0.09156187],\n",
       "        [0.07984225],\n",
       "        ...,\n",
       "        [0.08497656],\n",
       "        [0.08627874],\n",
       "        [0.08471612]],\n",
       "\n",
       "       ...,\n",
       "\n",
       "       [[0.92106928],\n",
       "        [0.92438053],\n",
       "        [0.93048218],\n",
       "        ...,\n",
       "        [0.95475854],\n",
       "        [0.95204256],\n",
       "        [0.95163331]],\n",
       "\n",
       "       [[0.92438053],\n",
       "        [0.93048218],\n",
       "        [0.9299055 ],\n",
       "        ...,\n",
       "        [0.95204256],\n",
       "        [0.95163331],\n",
       "        [0.95725128]],\n",
       "\n",
       "       [[0.93048218],\n",
       "        [0.9299055 ],\n",
       "        [0.93113327],\n",
       "        ...,\n",
       "        [0.95163331],\n",
       "        [0.95725128],\n",
       "        [0.93796041]]])"
      ]
     },
     "execution_count": 11,
     "metadata": {},
     "output_type": "execute_result"
    }
   ],
   "source": [
    "x_train"
   ]
  },
  {
   "cell_type": "code",
   "execution_count": 12,
   "metadata": {},
   "outputs": [],
   "source": [
    "from keras.models import Sequential\n",
    "from keras.layers import Dense, LSTM, Dropout"
   ]
  },
  {
   "cell_type": "code",
   "execution_count": 13,
   "metadata": {},
   "outputs": [],
   "source": [
    "regressor= Sequential()"
   ]
  },
  {
   "cell_type": "code",
   "execution_count": 14,
   "metadata": {},
   "outputs": [],
   "source": [
    "#1st lstm layer\n",
    "regressor.add(LSTM(units= 50, return_sequences= True, input_shape= (x_train.shape[1], 1)))              #Cuz its a stacked lstm, we put return_seq to True\n",
    "                                                                                                        #return_sequences True means the output dimension will be same as input dimension,which is 50 in this case."
   ]
  },
  {
   "cell_type": "code",
   "execution_count": 15,
   "metadata": {},
   "outputs": [],
   "source": [
    "regressor.add(Dropout(0.2))         #Its a regularization tech which prevents overfitting by randomly switching off or dropping off some neurons (here 20%) in each weight updating cycle ie. epoch."
   ]
  },
  {
   "cell_type": "code",
   "execution_count": 16,
   "metadata": {},
   "outputs": [],
   "source": [
    "#2nd LSTM layer\n",
    "regressor.add(LSTM(units= 50, return_sequences= True))\n",
    "regressor.add(Dropout(0.2))             #Dropout is a layer\n",
    "#3rd lstm layer\n",
    "regressor.add(LSTM(units= 50, return_sequences= True))\n",
    "regressor.add(Dropout(0.2)) "
   ]
  },
  {
   "cell_type": "code",
   "execution_count": 17,
   "metadata": {},
   "outputs": [],
   "source": [
    "#4th lstm layer\n",
    "regressor.add(LSTM(units= 50, return_sequences= False))         #its the last lstm layer before the output layer\n",
    "                                                                #Here the return_seqences is set to Falso to keep the output dimension as 1\n",
    "regressor.add(Dropout(0.2)) "
   ]
  },
  {
   "cell_type": "code",
   "execution_count": 18,
   "metadata": {},
   "outputs": [],
   "source": [
    "#Output layer\n",
    "regressor.add(Dense(units=1))"
   ]
  },
  {
   "cell_type": "code",
   "execution_count": 19,
   "metadata": {},
   "outputs": [],
   "source": [
    "regressor.compile(optimizer='adam', loss= 'mean_squared_error')"
   ]
  },
  {
   "cell_type": "code",
   "execution_count": 39,
   "metadata": {},
   "outputs": [
    {
     "name": "stdout",
     "output_type": "stream",
     "text": [
      "Epoch 1/100\n",
      "38/38 [==============================] - 2s 43ms/step - loss: 0.0041\n",
      "Epoch 2/100\n",
      "38/38 [==============================] - 2s 43ms/step - loss: 0.0037\n",
      "Epoch 3/100\n",
      "38/38 [==============================] - 2s 43ms/step - loss: 0.0036\n",
      "Epoch 4/100\n",
      "38/38 [==============================] - 2s 44ms/step - loss: 0.0033\n",
      "Epoch 5/100\n",
      "38/38 [==============================] - 2s 42ms/step - loss: 0.0032\n",
      "Epoch 6/100\n",
      "38/38 [==============================] - 2s 44ms/step - loss: 0.0032\n",
      "Epoch 7/100\n",
      "38/38 [==============================] - 2s 43ms/step - loss: 0.0035\n",
      "Epoch 8/100\n",
      "38/38 [==============================] - 2s 43ms/step - loss: 0.0029\n",
      "Epoch 9/100\n",
      "38/38 [==============================] - 2s 42ms/step - loss: 0.0033\n",
      "Epoch 10/100\n",
      "38/38 [==============================] - 2s 42ms/step - loss: 0.0028\n",
      "Epoch 11/100\n",
      "38/38 [==============================] - 2s 44ms/step - loss: 0.0028\n",
      "Epoch 12/100\n",
      "38/38 [==============================] - 2s 47ms/step - loss: 0.0030\n",
      "Epoch 13/100\n",
      "38/38 [==============================] - 2s 45ms/step - loss: 0.0030\n",
      "Epoch 14/100\n",
      "38/38 [==============================] - 2s 45ms/step - loss: 0.0027\n",
      "Epoch 15/100\n",
      "38/38 [==============================] - 2s 45ms/step - loss: 0.0029\n",
      "Epoch 16/100\n",
      "38/38 [==============================] - 2s 45ms/step - loss: 0.0031\n",
      "Epoch 17/100\n",
      "38/38 [==============================] - 2s 45ms/step - loss: 0.0025\n",
      "Epoch 18/100\n",
      "38/38 [==============================] - 2s 47ms/step - loss: 0.0028\n",
      "Epoch 19/100\n",
      "38/38 [==============================] - 2s 45ms/step - loss: 0.0026\n",
      "Epoch 20/100\n",
      "38/38 [==============================] - 2s 45ms/step - loss: 0.0028\n",
      "Epoch 21/100\n",
      "38/38 [==============================] - 2s 45ms/step - loss: 0.0025\n",
      "Epoch 22/100\n",
      "38/38 [==============================] - 2s 45ms/step - loss: 0.0024\n",
      "Epoch 23/100\n",
      "38/38 [==============================] - 2s 46ms/step - loss: 0.0030\n",
      "Epoch 24/100\n",
      "38/38 [==============================] - 2s 47ms/step - loss: 0.0026\n",
      "Epoch 25/100\n",
      "38/38 [==============================] - 2s 45ms/step - loss: 0.0027\n",
      "Epoch 26/100\n",
      "38/38 [==============================] - 2s 46ms/step - loss: 0.0029\n",
      "Epoch 27/100\n",
      "38/38 [==============================] - 2s 45ms/step - loss: 0.0025\n",
      "Epoch 28/100\n",
      "38/38 [==============================] - 2s 46ms/step - loss: 0.0023\n",
      "Epoch 29/100\n",
      "38/38 [==============================] - 2s 47ms/step - loss: 0.0026\n",
      "Epoch 30/100\n",
      "38/38 [==============================] - 2s 47ms/step - loss: 0.0024\n",
      "Epoch 31/100\n",
      "38/38 [==============================] - 2s 45ms/step - loss: 0.0025\n",
      "Epoch 32/100\n",
      "38/38 [==============================] - 2s 45ms/step - loss: 0.0025\n",
      "Epoch 33/100\n",
      "38/38 [==============================] - 2s 45ms/step - loss: 0.0023\n",
      "Epoch 34/100\n",
      "38/38 [==============================] - 2s 46ms/step - loss: 0.0022\n",
      "Epoch 35/100\n",
      "38/38 [==============================] - 2s 45ms/step - loss: 0.0023\n",
      "Epoch 36/100\n",
      "38/38 [==============================] - 2s 47ms/step - loss: 0.0022\n",
      "Epoch 37/100\n",
      "38/38 [==============================] - 2s 45ms/step - loss: 0.0023\n",
      "Epoch 38/100\n",
      "38/38 [==============================] - 2s 46ms/step - loss: 0.0027\n",
      "Epoch 39/100\n",
      "38/38 [==============================] - 2s 45ms/step - loss: 0.0023\n",
      "Epoch 40/100\n",
      "38/38 [==============================] - 2s 45ms/step - loss: 0.0021\n",
      "Epoch 41/100\n",
      "38/38 [==============================] - 2s 46ms/step - loss: 0.0019\n",
      "Epoch 42/100\n",
      "38/38 [==============================] - 2s 48ms/step - loss: 0.0022\n",
      "Epoch 43/100\n",
      "38/38 [==============================] - 2s 45ms/step - loss: 0.0021\n",
      "Epoch 44/100\n",
      "38/38 [==============================] - 2s 45ms/step - loss: 0.0022\n",
      "Epoch 45/100\n",
      "38/38 [==============================] - 2s 45ms/step - loss: 0.0020\n",
      "Epoch 46/100\n",
      "38/38 [==============================] - 2s 45ms/step - loss: 0.0017\n",
      "Epoch 47/100\n",
      "38/38 [==============================] - 2s 50ms/step - loss: 0.0020\n",
      "Epoch 48/100\n",
      "38/38 [==============================] - 2s 47ms/step - loss: 0.0019\n",
      "Epoch 49/100\n",
      "38/38 [==============================] - 2s 47ms/step - loss: 0.0022\n",
      "Epoch 50/100\n",
      "38/38 [==============================] - 2s 46ms/step - loss: 0.0021\n",
      "Epoch 51/100\n",
      "38/38 [==============================] - 2s 45ms/step - loss: 0.0020\n",
      "Epoch 52/100\n",
      "38/38 [==============================] - 2s 45ms/step - loss: 0.0019\n",
      "Epoch 53/100\n",
      "38/38 [==============================] - 2s 47ms/step - loss: 0.0019\n",
      "Epoch 54/100\n",
      "38/38 [==============================] - 2s 47ms/step - loss: 0.0018\n",
      "Epoch 55/100\n",
      "38/38 [==============================] - 2s 45ms/step - loss: 0.0021\n",
      "Epoch 56/100\n",
      "38/38 [==============================] - 2s 45ms/step - loss: 0.0017\n",
      "Epoch 57/100\n",
      "38/38 [==============================] - 2s 46ms/step - loss: 0.0018\n",
      "Epoch 58/100\n",
      "38/38 [==============================] - 2s 45ms/step - loss: 0.0019\n",
      "Epoch 59/100\n",
      "38/38 [==============================] - 2s 45ms/step - loss: 0.0017\n",
      "Epoch 60/100\n",
      "38/38 [==============================] - 2s 47ms/step - loss: 0.0015\n",
      "Epoch 61/100\n",
      "38/38 [==============================] - 2s 45ms/step - loss: 0.0017\n",
      "Epoch 62/100\n",
      "38/38 [==============================] - 2s 45ms/step - loss: 0.0017\n",
      "Epoch 63/100\n",
      "38/38 [==============================] - 2s 46ms/step - loss: 0.0018\n",
      "Epoch 64/100\n",
      "38/38 [==============================] - 2s 46ms/step - loss: 0.0019\n",
      "Epoch 65/100\n",
      "38/38 [==============================] - 2s 46ms/step - loss: 0.0016\n",
      "Epoch 66/100\n",
      "38/38 [==============================] - 2s 47ms/step - loss: 0.0017\n",
      "Epoch 67/100\n",
      "38/38 [==============================] - 2s 45ms/step - loss: 0.0017\n",
      "Epoch 68/100\n",
      "38/38 [==============================] - 2s 45ms/step - loss: 0.0017\n",
      "Epoch 69/100\n",
      "38/38 [==============================] - 2s 46ms/step - loss: 0.0017\n",
      "Epoch 70/100\n",
      "38/38 [==============================] - 2s 45ms/step - loss: 0.0016\n",
      "Epoch 71/100\n",
      "38/38 [==============================] - 2s 45ms/step - loss: 0.0014\n",
      "Epoch 72/100\n",
      "38/38 [==============================] - 2s 47ms/step - loss: 0.0016\n",
      "Epoch 73/100\n",
      "38/38 [==============================] - 2s 46ms/step - loss: 0.0016\n",
      "Epoch 74/100\n",
      "38/38 [==============================] - 2s 45ms/step - loss: 0.0014\n",
      "Epoch 75/100\n",
      "38/38 [==============================] - 2s 46ms/step - loss: 0.0015\n",
      "Epoch 76/100\n",
      "38/38 [==============================] - 2s 45ms/step - loss: 0.0015\n",
      "Epoch 77/100\n",
      "38/38 [==============================] - 2s 47ms/step - loss: 0.0015\n",
      "Epoch 78/100\n",
      "38/38 [==============================] - 2s 47ms/step - loss: 0.0016\n",
      "Epoch 79/100\n",
      "38/38 [==============================] - 2s 45ms/step - loss: 0.0014\n",
      "Epoch 80/100\n",
      "38/38 [==============================] - 2s 46ms/step - loss: 0.0015\n",
      "Epoch 81/100\n",
      "38/38 [==============================] - 2s 46ms/step - loss: 0.0015\n",
      "Epoch 82/100\n",
      "38/38 [==============================] - 2s 45ms/step - loss: 0.0013\n",
      "Epoch 83/100\n",
      "38/38 [==============================] - 2s 46ms/step - loss: 0.0014\n",
      "Epoch 84/100\n",
      "38/38 [==============================] - 2s 47ms/step - loss: 0.0015\n",
      "Epoch 85/100\n",
      "38/38 [==============================] - 2s 46ms/step - loss: 0.0014\n",
      "Epoch 86/100\n",
      "38/38 [==============================] - 2s 45ms/step - loss: 0.0014\n",
      "Epoch 87/100\n",
      "38/38 [==============================] - 2s 46ms/step - loss: 0.0013\n",
      "Epoch 88/100\n",
      "38/38 [==============================] - 2s 46ms/step - loss: 0.0015\n",
      "Epoch 89/100\n",
      "38/38 [==============================] - 2s 46ms/step - loss: 0.0014\n",
      "Epoch 90/100\n",
      "38/38 [==============================] - 2s 47ms/step - loss: 0.0013\n",
      "Epoch 91/100\n",
      "38/38 [==============================] - 2s 45ms/step - loss: 0.0015\n",
      "Epoch 92/100\n",
      "38/38 [==============================] - 2s 45ms/step - loss: 0.0013\n",
      "Epoch 93/100\n",
      "38/38 [==============================] - 2s 45ms/step - loss: 0.0014\n",
      "Epoch 94/100\n",
      "38/38 [==============================] - 2s 45ms/step - loss: 0.0013\n",
      "Epoch 95/100\n",
      "38/38 [==============================] - 2s 46ms/step - loss: 0.0013\n",
      "Epoch 96/100\n",
      "38/38 [==============================] - 2s 46ms/step - loss: 0.0011\n",
      "Epoch 97/100\n",
      "38/38 [==============================] - 2s 46ms/step - loss: 0.0013\n",
      "Epoch 98/100\n",
      "38/38 [==============================] - 2s 45ms/step - loss: 0.0012\n",
      "Epoch 99/100\n",
      "38/38 [==============================] - 2s 45ms/step - loss: 0.0013\n",
      "Epoch 100/100\n",
      "38/38 [==============================] - 2s 45ms/step - loss: 0.0014\n"
     ]
    },
    {
     "data": {
      "text/plain": [
       "<keras.callbacks.History at 0x15c9f23a1f0>"
      ]
     },
     "execution_count": 39,
     "metadata": {},
     "output_type": "execute_result"
    }
   ],
   "source": [
    "#regressor.fit(x_train, y_train, epochs= 100, batch_size= 32)\n",
    "regressor.fit(x_train, y_train, epochs= 100, batch_size= 32)\n"
   ]
  },
  {
   "cell_type": "code",
   "execution_count": 40,
   "metadata": {},
   "outputs": [],
   "source": [
    "test_data= pd.read_csv(r'C:\\Users\\saswa\\saswata\\Part 3 - Recurrent Neural Networks\\Google_Stock_Price_Test.csv')"
   ]
  },
  {
   "cell_type": "code",
   "execution_count": 41,
   "metadata": {},
   "outputs": [],
   "source": [
    "testing_set= test_data.iloc[:, 1:2].values"
   ]
  },
  {
   "cell_type": "code",
   "execution_count": 42,
   "metadata": {},
   "outputs": [
    {
     "data": {
      "text/plain": [
       "array([[778.81],\n",
       "       [788.36],\n",
       "       [786.08],\n",
       "       [795.26],\n",
       "       [806.4 ],\n",
       "       [807.86],\n",
       "       [805.  ],\n",
       "       [807.14],\n",
       "       [807.48],\n",
       "       [807.08],\n",
       "       [805.81],\n",
       "       [805.12],\n",
       "       [806.91],\n",
       "       [807.25],\n",
       "       [822.3 ],\n",
       "       [829.62],\n",
       "       [837.81],\n",
       "       [834.71],\n",
       "       [814.66],\n",
       "       [796.86]])"
      ]
     },
     "execution_count": 42,
     "metadata": {},
     "output_type": "execute_result"
    }
   ],
   "source": [
    "testing_set"
   ]
  },
  {
   "cell_type": "code",
   "execution_count": 43,
   "metadata": {},
   "outputs": [],
   "source": [
    "#Here we will concatenate the training set and the test set for the 60 timestep which the neural net will use for prediction\n",
    "#Also, we wont be normalizing the testing set and then input it into the neural net. We will normalize the concatenated data set for that purpose\n",
    "#Also we wont be scaling the test set as we should never change the testing data"
   ]
  },
  {
   "cell_type": "code",
   "execution_count": 44,
   "metadata": {},
   "outputs": [],
   "source": [
    "total_data_set= pd.concat((train_data['Open'], test_data['Open']),axis=0)                       #axis is 0 cuz concat is done along the rows"
   ]
  },
  {
   "cell_type": "code",
   "execution_count": 45,
   "metadata": {},
   "outputs": [
    {
     "data": {
      "text/plain": [
       "(20, 6)"
      ]
     },
     "execution_count": 45,
     "metadata": {},
     "output_type": "execute_result"
    }
   ],
   "source": [
    "test_data.shape"
   ]
  },
  {
   "cell_type": "code",
   "execution_count": 46,
   "metadata": {},
   "outputs": [],
   "source": [
    "input_data= total_data_set[len(total_data_set)-len(test_data)-60:].values\n"
   ]
  },
  {
   "cell_type": "code",
   "execution_count": 47,
   "metadata": {},
   "outputs": [
    {
     "data": {
      "text/plain": [
       "array([779.  , 779.66, 777.71, 786.66, 783.76, 781.22, 781.65, 779.8 ,\n",
       "       787.85, 798.24, 803.3 , 795.  , 804.9 , 816.68, 806.34, 801.  ,\n",
       "       808.35, 795.47, 782.89, 778.2 , 767.25, 750.66, 774.5 , 783.4 ,\n",
       "       779.94, 791.17, 756.54, 755.6 , 746.97, 755.2 , 766.92, 771.37,\n",
       "       762.61, 772.63, 767.73, 764.26, 760.  , 771.53, 770.07, 757.44,\n",
       "       744.59, 757.71, 764.73, 761.  , 772.48, 780.  , 785.04, 793.9 ,\n",
       "       797.4 , 797.34, 800.4 , 790.22, 796.76, 795.84, 792.36, 790.9 ,\n",
       "       790.68, 793.7 , 783.33, 782.75, 778.81, 788.36, 786.08, 795.26,\n",
       "       806.4 , 807.86, 805.  , 807.14, 807.48, 807.08, 805.81, 805.12,\n",
       "       806.91, 807.25, 822.3 , 829.62, 837.81, 834.71, 814.66, 796.86])"
      ]
     },
     "execution_count": 47,
     "metadata": {},
     "output_type": "execute_result"
    }
   ],
   "source": [
    "input_data"
   ]
  },
  {
   "cell_type": "code",
   "execution_count": 48,
   "metadata": {},
   "outputs": [],
   "source": [
    "input_data= input_data.reshape(-1,1)"
   ]
  },
  {
   "cell_type": "code",
   "execution_count": 49,
   "metadata": {},
   "outputs": [
    {
     "data": {
      "text/plain": [
       "array([[779.  ],\n",
       "       [779.66],\n",
       "       [777.71],\n",
       "       [786.66],\n",
       "       [783.76],\n",
       "       [781.22],\n",
       "       [781.65],\n",
       "       [779.8 ],\n",
       "       [787.85],\n",
       "       [798.24],\n",
       "       [803.3 ],\n",
       "       [795.  ],\n",
       "       [804.9 ],\n",
       "       [816.68],\n",
       "       [806.34],\n",
       "       [801.  ],\n",
       "       [808.35],\n",
       "       [795.47],\n",
       "       [782.89],\n",
       "       [778.2 ],\n",
       "       [767.25],\n",
       "       [750.66],\n",
       "       [774.5 ],\n",
       "       [783.4 ],\n",
       "       [779.94],\n",
       "       [791.17],\n",
       "       [756.54],\n",
       "       [755.6 ],\n",
       "       [746.97],\n",
       "       [755.2 ],\n",
       "       [766.92],\n",
       "       [771.37],\n",
       "       [762.61],\n",
       "       [772.63],\n",
       "       [767.73],\n",
       "       [764.26],\n",
       "       [760.  ],\n",
       "       [771.53],\n",
       "       [770.07],\n",
       "       [757.44],\n",
       "       [744.59],\n",
       "       [757.71],\n",
       "       [764.73],\n",
       "       [761.  ],\n",
       "       [772.48],\n",
       "       [780.  ],\n",
       "       [785.04],\n",
       "       [793.9 ],\n",
       "       [797.4 ],\n",
       "       [797.34],\n",
       "       [800.4 ],\n",
       "       [790.22],\n",
       "       [796.76],\n",
       "       [795.84],\n",
       "       [792.36],\n",
       "       [790.9 ],\n",
       "       [790.68],\n",
       "       [793.7 ],\n",
       "       [783.33],\n",
       "       [782.75],\n",
       "       [778.81],\n",
       "       [788.36],\n",
       "       [786.08],\n",
       "       [795.26],\n",
       "       [806.4 ],\n",
       "       [807.86],\n",
       "       [805.  ],\n",
       "       [807.14],\n",
       "       [807.48],\n",
       "       [807.08],\n",
       "       [805.81],\n",
       "       [805.12],\n",
       "       [806.91],\n",
       "       [807.25],\n",
       "       [822.3 ],\n",
       "       [829.62],\n",
       "       [837.81],\n",
       "       [834.71],\n",
       "       [814.66],\n",
       "       [796.86]])"
      ]
     },
     "execution_count": 49,
     "metadata": {},
     "output_type": "execute_result"
    }
   ],
   "source": [
    "input_data"
   ]
  },
  {
   "cell_type": "code",
   "execution_count": 50,
   "metadata": {},
   "outputs": [],
   "source": [
    "input_data= scaler.transform(input_data)"
   ]
  },
  {
   "cell_type": "code",
   "execution_count": 51,
   "metadata": {},
   "outputs": [
    {
     "data": {
      "text/plain": [
       "(20, 60)"
      ]
     },
     "execution_count": 51,
     "metadata": {},
     "output_type": "execute_result"
    }
   ],
   "source": [
    "x_test= []\n",
    "for i in range(60, 80):\n",
    "    x_test.append(input_data[i-60:i,0])\n",
    "x_test= np.array(x_test)\n",
    "x_test.shape"
   ]
  },
  {
   "cell_type": "code",
   "execution_count": 52,
   "metadata": {},
   "outputs": [],
   "source": [
    "x_test= np.reshape(x_test, (x_test.shape[0], x_test.shape[1], 1))"
   ]
  },
  {
   "cell_type": "code",
   "execution_count": 53,
   "metadata": {},
   "outputs": [],
   "source": [
    "y_test_predict= regressor.predict(x_test)"
   ]
  },
  {
   "cell_type": "code",
   "execution_count": 54,
   "metadata": {},
   "outputs": [],
   "source": [
    "y_test_predict= scaler.inverse_transform(y_test_predict)"
   ]
  },
  {
   "cell_type": "code",
   "execution_count": 55,
   "metadata": {},
   "outputs": [
    {
     "data": {
      "image/png": "[encoded data removed]",
      "text/plain": [
       "<Figure size 432x288 with 1 Axes>"
      ]
     },
     "metadata": {
      "needs_background": "light"
     },
     "output_type": "display_data"
    }
   ],
   "source": [
    "plt.plot(testing_set, color= 'red', label='Real Stock Price Google')\n",
    "plt.plot(y_test_predict, color= 'green', label='predicted Stock price')\n",
    "plt.xlabel('Time')\n",
    "plt.ylabel('Stock Price')\n",
    "plt.legend()\n",
    "plt.show()"
   ]
  },
  {
   "cell_type": "code",
   "execution_count": 56,
   "metadata": {},
   "outputs": [
    {
     "data": {
      "text/plain": [
       "20"
      ]
     },
     "execution_count": 56,
     "metadata": {},
     "output_type": "execute_result"
    }
   ],
   "source": [
    "len(testing_set)"
   ]
  },
  {
   "cell_type": "code",
   "execution_count": 57,
   "metadata": {},
   "outputs": [
    {
     "data": {
      "text/plain": [
       "20"
      ]
     },
     "execution_count": 57,
     "metadata": {},
     "output_type": "execute_result"
    }
   ],
   "source": [
    "len(y_test_predict)"
   ]
  },
  {
   "cell_type": "code",
   "execution_count": null,
   "metadata": {},
   "outputs": [],
   "source": []
  }
 ],
 "metadata": {
  "interpreter": {
   "hash": "b83752dd2351e549d4486d00579c2754387b6552781a235cfc636d34e5e38ea9"
  },
  "kernelspec": {
   "display_name": "Python 3.9.5 64-bit (system)",
   "language": "python",
   "name": "python3"
  },
  "language_info": {
   "codemirror_mode": {
    "name": "ipython",
    "version": 3
   },
   "file_extension": ".py",
   "mimetype": "text/x-python",
   "name": "python",
   "nbconvert_exporter": "python",
   "pygments_lexer": "ipython3",
   "version": "3.9.5"
  },
  "orig_nbformat": 4
 },
 "nbformat": 4,
 "nbformat_minor": 2
}
