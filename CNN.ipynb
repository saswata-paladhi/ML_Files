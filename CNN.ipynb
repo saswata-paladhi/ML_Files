{
 "cells": [
  {
   "cell_type": "code",
   "execution_count": 1,
   "metadata": {},
   "outputs": [],
   "source": [
    "import tensorflow as tf\n",
    "from keras.preprocessing.image import ImageDataGenerator"
   ]
  },
  {
   "cell_type": "code",
   "execution_count": 2,
   "metadata": {},
   "outputs": [
    {
     "data": {
      "text/plain": [
       "'2.5.0'"
      ]
     },
     "execution_count": 2,
     "metadata": {},
     "output_type": "execute_result"
    }
   ],
   "source": [
    "tf.__version__"
   ]
  },
  {
   "cell_type": "code",
   "execution_count": 3,
   "metadata": {},
   "outputs": [],
   "source": [
    "#DATA AUGMENTATION  \n",
    "train_datagen= ImageDataGenerator(\n",
    "    rescale= 1./255,                            #The rescaling of 1/255 is done cuz RGB images have coefficient range of 0-255. Basically feature scaling each pixels\n",
    "    shear_range= 0.2,                           #Shear angle of 20% that is the slope is 20% counter-clockwise\n",
    "    zoom_range= 0.2,                            #zoom_range of +-20%\n",
    "    horizontal_flip= True                       #Flipping the image horizontally.\n",
    ")                                               #This is done to create a variety of same image for a high robust model                            "
   ]
  },
  {
   "cell_type": "code",
   "execution_count": 5,
   "metadata": {},
   "outputs": [
    {
     "name": "stdout",
     "output_type": "stream",
     "text": [
      "Found 8000 images belonging to 2 classes.\n"
     ]
    }
   ],
   "source": [
    "train_generator= train_datagen.flow_from_directory(\n",
    "    'C:/Users/saswa/saswata/Machine Learning A-Z (Codes and Datasets)/Part 8 - Deep Learning/Section 40 - Convolutional Neural Networks (CNN)/Python/dataset/training_set',\n",
    "    target_size=(64,64),\n",
    "    batch_size=40,\n",
    "    class_mode='binary'\n",
    ")"
   ]
  },
  {
   "cell_type": "code",
   "execution_count": 6,
   "metadata": {},
   "outputs": [
    {
     "name": "stdout",
     "output_type": "stream",
     "text": [
      "Found 2000 images belonging to 2 classes.\n"
     ]
    }
   ],
   "source": [
    "test_datagen= ImageDataGenerator(rescale=1./255)\n",
    "test_generator= test_datagen.flow_from_directory(\n",
    "    'C:/Users/saswa/saswata/Machine Learning A-Z (Codes and Datasets)/Part 8 - Deep Learning/Section 40 - Convolutional Neural Networks (CNN)/Python/dataset/test_set',\n",
    "    target_size=(64,64),\n",
    "    batch_size= 40,\n",
    "    class_mode='binary'\n",
    ")"
   ]
  },
  {
   "cell_type": "code",
   "execution_count": 7,
   "metadata": {},
   "outputs": [],
   "source": [
    "#MAKING THE LAYERS\n",
    "cnn= tf.keras.models.Sequential()"
   ]
  },
  {
   "cell_type": "code",
   "execution_count": 8,
   "metadata": {},
   "outputs": [],
   "source": [
    "cnn.add(tf.keras.layers.Conv2D(filters=32, kernel_size= 3, activation= 'relu', input_shape= [64, 64, 3]))           #Adding the filter matrix layer in it"
   ]
  },
  {
   "cell_type": "code",
   "execution_count": 9,
   "metadata": {},
   "outputs": [],
   "source": [
    "cnn.add(tf.keras.layers.MaxPooling2D(pool_size=2, strides=2))                                                       #Doing max_pooling in that cnn"
   ]
  },
  {
   "cell_type": "code",
   "execution_count": 10,
   "metadata": {},
   "outputs": [],
   "source": [
    "cnn.add(tf.keras.layers.Flatten())                                                                                  #Flatten the output of the cnn"
   ]
  },
  {
   "cell_type": "code",
   "execution_count": 11,
   "metadata": {},
   "outputs": [],
   "source": [
    "cnn.add(tf.keras.layers.Dense(units= 128, activation= 'relu'))                                                      #For the ANN, hidden layer "
   ]
  },
  {
   "cell_type": "code",
   "execution_count": 12,
   "metadata": {},
   "outputs": [],
   "source": [
    "cnn.add(tf.keras.layers.Dense(units= 1, activation= 'sigmoid'))                                                     #Output Layer"
   ]
  },
  {
   "cell_type": "code",
   "execution_count": 13,
   "metadata": {},
   "outputs": [],
   "source": [
    "cnn.compile(optimizer= 'adam', loss= 'binary_crossentropy', metrics= 'accuracy')"
   ]
  },
  {
   "cell_type": "code",
   "execution_count": 14,
   "metadata": {},
   "outputs": [
    {
     "name": "stdout",
     "output_type": "stream",
     "text": [
      "Epoch 1/25\n",
      "200/200 [==============================] - 41s 203ms/step - loss: 0.7252 - accuracy: 0.5024 - val_loss: 0.6820 - val_accuracy: 0.5120\n",
      "Epoch 2/25\n",
      "200/200 [==============================] - 31s 155ms/step - loss: 0.6593 - accuracy: 0.5921 - val_loss: 0.6229 - val_accuracy: 0.6700\n",
      "Epoch 3/25\n",
      "200/200 [==============================] - 26s 129ms/step - loss: 0.6105 - accuracy: 0.6715 - val_loss: 0.6261 - val_accuracy: 0.6480\n",
      "Epoch 4/25\n",
      "200/200 [==============================] - 25s 125ms/step - loss: 0.5824 - accuracy: 0.6976 - val_loss: 0.6472 - val_accuracy: 0.6535\n",
      "Epoch 5/25\n",
      "200/200 [==============================] - 25s 124ms/step - loss: 0.5695 - accuracy: 0.7039 - val_loss: 0.6302 - val_accuracy: 0.6595\n",
      "Epoch 6/25\n",
      "200/200 [==============================] - 25s 125ms/step - loss: 0.5527 - accuracy: 0.7179 - val_loss: 0.5748 - val_accuracy: 0.7130\n",
      "Epoch 7/25\n",
      "200/200 [==============================] - 25s 126ms/step - loss: 0.5438 - accuracy: 0.7229 - val_loss: 0.5425 - val_accuracy: 0.7255\n",
      "Epoch 8/25\n",
      "200/200 [==============================] - 26s 128ms/step - loss: 0.5326 - accuracy: 0.7337 - val_loss: 0.5456 - val_accuracy: 0.7360\n",
      "Epoch 9/25\n",
      "200/200 [==============================] - 26s 131ms/step - loss: 0.5216 - accuracy: 0.7380 - val_loss: 0.5528 - val_accuracy: 0.7385\n",
      "Epoch 10/25\n",
      "200/200 [==============================] - 25s 126ms/step - loss: 0.5137 - accuracy: 0.7474 - val_loss: 0.5381 - val_accuracy: 0.7450\n",
      "Epoch 11/25\n",
      "200/200 [==============================] - 25s 126ms/step - loss: 0.5073 - accuracy: 0.7515 - val_loss: 0.5263 - val_accuracy: 0.7505\n",
      "Epoch 12/25\n",
      "200/200 [==============================] - 25s 127ms/step - loss: 0.5020 - accuracy: 0.7546 - val_loss: 0.5220 - val_accuracy: 0.7565\n",
      "Epoch 13/25\n",
      "200/200 [==============================] - 25s 126ms/step - loss: 0.4913 - accuracy: 0.7581 - val_loss: 0.5312 - val_accuracy: 0.7585\n",
      "Epoch 14/25\n",
      "200/200 [==============================] - 26s 128ms/step - loss: 0.4918 - accuracy: 0.7604 - val_loss: 0.5268 - val_accuracy: 0.7615\n",
      "Epoch 15/25\n",
      "200/200 [==============================] - 27s 133ms/step - loss: 0.4817 - accuracy: 0.7663 - val_loss: 0.5381 - val_accuracy: 0.7520\n",
      "Epoch 16/25\n",
      "200/200 [==============================] - 27s 134ms/step - loss: 0.4767 - accuracy: 0.7704 - val_loss: 0.6119 - val_accuracy: 0.7205\n",
      "Epoch 17/25\n",
      "200/200 [==============================] - 27s 136ms/step - loss: 0.4751 - accuracy: 0.7676 - val_loss: 0.5808 - val_accuracy: 0.7355\n",
      "Epoch 18/25\n",
      "200/200 [==============================] - 25s 126ms/step - loss: 0.4780 - accuracy: 0.7695 - val_loss: 0.5503 - val_accuracy: 0.7505\n",
      "Epoch 19/25\n",
      "200/200 [==============================] - 24s 121ms/step - loss: 0.4712 - accuracy: 0.7800 - val_loss: 0.5475 - val_accuracy: 0.7590\n",
      "Epoch 20/25\n",
      "200/200 [==============================] - 22s 112ms/step - loss: 0.4738 - accuracy: 0.7676 - val_loss: 0.5224 - val_accuracy: 0.7710\n",
      "Epoch 21/25\n",
      "200/200 [==============================] - 22s 111ms/step - loss: 0.4641 - accuracy: 0.7757 - val_loss: 0.5547 - val_accuracy: 0.7570\n",
      "Epoch 22/25\n",
      "200/200 [==============================] - 22s 111ms/step - loss: 0.4656 - accuracy: 0.7744 - val_loss: 0.5306 - val_accuracy: 0.7645\n",
      "Epoch 23/25\n",
      "200/200 [==============================] - 22s 111ms/step - loss: 0.4528 - accuracy: 0.7796 - val_loss: 0.5268 - val_accuracy: 0.7705\n",
      "Epoch 24/25\n",
      "200/200 [==============================] - 22s 111ms/step - loss: 0.4568 - accuracy: 0.7806 - val_loss: 0.5168 - val_accuracy: 0.7700\n",
      "Epoch 25/25\n",
      "200/200 [==============================] - 22s 111ms/step - loss: 0.4533 - accuracy: 0.7822 - val_loss: 0.5590 - val_accuracy: 0.7510\n"
     ]
    },
    {
     "data": {
      "text/plain": [
       "<tensorflow.python.keras.callbacks.History at 0x19904693f10>"
      ]
     },
     "execution_count": 14,
     "metadata": {},
     "output_type": "execute_result"
    }
   ],
   "source": [
    "cnn.fit(x= train_generator, validation_data= test_generator, epochs= 25)"
   ]
  },
  {
   "cell_type": "code",
   "execution_count": 15,
   "metadata": {},
   "outputs": [
    {
     "data": {
      "text/plain": [
       "{'cats': 0, 'dogs': 1}"
      ]
     },
     "execution_count": 15,
     "metadata": {},
     "output_type": "execute_result"
    }
   ],
   "source": [
    "import numpy as np\n",
    "from keras.preprocessing import image\n",
    "test_image= image.load_img('C:/Users/saswa/saswata/Machine Learning A-Z (Codes and Datasets)/Part 8 - Deep Learning/Section 40 - Convolutional Neural Networks (CNN)/Python/dataset/test_set/dogs/dog.4045.jpg', target_size=(64,64))\n",
    "test_image= image.img_to_array(test_image)\n",
    "test_image= np.expand_dims(test_image, axis=0)\n",
    "train_generator.class_indices"
   ]
  },
  {
   "cell_type": "code",
   "execution_count": 16,
   "metadata": {},
   "outputs": [
    {
     "data": {
      "text/plain": [
       "array([[1.]], dtype=float32)"
      ]
     },
     "execution_count": 16,
     "metadata": {},
     "output_type": "execute_result"
    }
   ],
   "source": [
    "cnn.predict(test_image)"
   ]
  },
  {
   "cell_type": "code",
   "execution_count": 18,
   "metadata": {},
   "outputs": [
    {
     "data": {
      "text/plain": [
       "array([[0.]], dtype=float32)"
      ]
     },
     "execution_count": 18,
     "metadata": {},
     "output_type": "execute_result"
    }
   ],
   "source": [
    "test_image_2= image.load_img('C:/Users/saswa/saswata/Machine Learning A-Z (Codes and Datasets)/Part 8 - Deep Learning/Section 40 - Convolutional Neural Networks (CNN)/Python/dataset/test_set/cats/cat.4019.jpg', target_size=(64,64))\n",
    "test_image_2= image.img_to_array(test_image_2)\n",
    "test_image_2= np.expand_dims(test_image_2, axis=0)\n",
    "cnn.predict(test_image_2)"
   ]
  },
  {
   "cell_type": "code",
   "execution_count": null,
   "metadata": {},
   "outputs": [],
   "source": []
  }
 ],
 "metadata": {
  "interpreter": {
   "hash": "b83752dd2351e549d4486d00579c2754387b6552781a235cfc636d34e5e38ea9"
  },
  "kernelspec": {
   "display_name": "Python 3.9.5 64-bit",
   "name": "python3"
  },
  "language_info": {
   "codemirror_mode": {
    "name": "ipython",
    "version": 3
   },
   "file_extension": ".py",
   "mimetype": "text/x-python",
   "name": "python",
   "nbconvert_exporter": "python",
   "pygments_lexer": "ipython3",
   "version": "3.9.5"
  },
  "orig_nbformat": 4
 },
 "nbformat": 4,
 "nbformat_minor": 2
}
