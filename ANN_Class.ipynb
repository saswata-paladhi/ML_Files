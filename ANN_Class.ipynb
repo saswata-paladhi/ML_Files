{
 "cells": [
  {
   "cell_type": "code",
   "execution_count": 2,
   "metadata": {},
   "outputs": [],
   "source": [
    "import tensorflow as tf\n",
    "import pandas as pd\n",
    "import numpy as np\n",
    "import matplotlib.pyplot as plt"
   ]
  },
  {
   "cell_type": "code",
   "execution_count": 3,
   "metadata": {},
   "outputs": [
    {
     "data": {
      "text/plain": [
       "'2.5.0'"
      ]
     },
     "execution_count": 3,
     "metadata": {},
     "output_type": "execute_result"
    }
   ],
   "source": [
    "tf.__version__"
   ]
  },
  {
   "cell_type": "code",
   "execution_count": 4,
   "metadata": {},
   "outputs": [],
   "source": [
    "df= pd.read_csv('C:/Users/saswa/saswata/Machine Learning A-Z (Codes and Datasets)/Part 8 - Deep Learning/Section 39 - Artificial Neural Networks (ANN)/Python/Churn_Modelling.csv', header=0)"
   ]
  },
  {
   "cell_type": "code",
   "execution_count": 5,
   "metadata": {},
   "outputs": [],
   "source": [
    "x= df.iloc[:, 3:-1]\n",
    "y= df.iloc[:, -1]\n",
    "\n"
   ]
  },
  {
   "cell_type": "code",
   "execution_count": 6,
   "metadata": {},
   "outputs": [
    {
     "data": {
      "text/html": [
       "<div>\n",
       "<style scoped>\n",
       "    .dataframe tbody tr th:only-of-type {\n",
       "        vertical-align: middle;\n",
       "    }\n",
       "\n",
       "    .dataframe tbody tr th {\n",
       "        vertical-align: top;\n",
       "    }\n",
       "\n",
       "    .dataframe thead th {\n",
       "        text-align: right;\n",
       "    }\n",
       "</style>\n",
       "<table border=\"1\" class=\"dataframe\">\n",
       "  <thead>\n",
       "    <tr style=\"text-align: right;\">\n",
       "      <th></th>\n",
       "      <th>CreditScore</th>\n",
       "      <th>Age</th>\n",
       "      <th>Tenure</th>\n",
       "      <th>Balance</th>\n",
       "      <th>NumOfProducts</th>\n",
       "      <th>HasCrCard</th>\n",
       "      <th>IsActiveMember</th>\n",
       "      <th>EstimatedSalary</th>\n",
       "    </tr>\n",
       "  </thead>\n",
       "  <tbody>\n",
       "    <tr>\n",
       "      <th>count</th>\n",
       "      <td>10000.000000</td>\n",
       "      <td>10000.000000</td>\n",
       "      <td>10000.000000</td>\n",
       "      <td>10000.000000</td>\n",
       "      <td>10000.000000</td>\n",
       "      <td>10000.00000</td>\n",
       "      <td>10000.000000</td>\n",
       "      <td>10000.000000</td>\n",
       "    </tr>\n",
       "    <tr>\n",
       "      <th>mean</th>\n",
       "      <td>650.528800</td>\n",
       "      <td>38.921800</td>\n",
       "      <td>5.012800</td>\n",
       "      <td>76485.889288</td>\n",
       "      <td>1.530200</td>\n",
       "      <td>0.70550</td>\n",
       "      <td>0.515100</td>\n",
       "      <td>100090.239881</td>\n",
       "    </tr>\n",
       "    <tr>\n",
       "      <th>std</th>\n",
       "      <td>96.653299</td>\n",
       "      <td>10.487806</td>\n",
       "      <td>2.892174</td>\n",
       "      <td>62397.405202</td>\n",
       "      <td>0.581654</td>\n",
       "      <td>0.45584</td>\n",
       "      <td>0.499797</td>\n",
       "      <td>57510.492818</td>\n",
       "    </tr>\n",
       "    <tr>\n",
       "      <th>min</th>\n",
       "      <td>350.000000</td>\n",
       "      <td>18.000000</td>\n",
       "      <td>0.000000</td>\n",
       "      <td>0.000000</td>\n",
       "      <td>1.000000</td>\n",
       "      <td>0.00000</td>\n",
       "      <td>0.000000</td>\n",
       "      <td>11.580000</td>\n",
       "    </tr>\n",
       "    <tr>\n",
       "      <th>25%</th>\n",
       "      <td>584.000000</td>\n",
       "      <td>32.000000</td>\n",
       "      <td>3.000000</td>\n",
       "      <td>0.000000</td>\n",
       "      <td>1.000000</td>\n",
       "      <td>0.00000</td>\n",
       "      <td>0.000000</td>\n",
       "      <td>51002.110000</td>\n",
       "    </tr>\n",
       "    <tr>\n",
       "      <th>50%</th>\n",
       "      <td>652.000000</td>\n",
       "      <td>37.000000</td>\n",
       "      <td>5.000000</td>\n",
       "      <td>97198.540000</td>\n",
       "      <td>1.000000</td>\n",
       "      <td>1.00000</td>\n",
       "      <td>1.000000</td>\n",
       "      <td>100193.915000</td>\n",
       "    </tr>\n",
       "    <tr>\n",
       "      <th>75%</th>\n",
       "      <td>718.000000</td>\n",
       "      <td>44.000000</td>\n",
       "      <td>7.000000</td>\n",
       "      <td>127644.240000</td>\n",
       "      <td>2.000000</td>\n",
       "      <td>1.00000</td>\n",
       "      <td>1.000000</td>\n",
       "      <td>149388.247500</td>\n",
       "    </tr>\n",
       "    <tr>\n",
       "      <th>max</th>\n",
       "      <td>850.000000</td>\n",
       "      <td>92.000000</td>\n",
       "      <td>10.000000</td>\n",
       "      <td>250898.090000</td>\n",
       "      <td>4.000000</td>\n",
       "      <td>1.00000</td>\n",
       "      <td>1.000000</td>\n",
       "      <td>199992.480000</td>\n",
       "    </tr>\n",
       "  </tbody>\n",
       "</table>\n",
       "</div>"
      ],
      "text/plain": [
       "        CreditScore           Age        Tenure        Balance  NumOfProducts  \\\n",
       "count  10000.000000  10000.000000  10000.000000   10000.000000   10000.000000   \n",
       "mean     650.528800     38.921800      5.012800   76485.889288       1.530200   \n",
       "std       96.653299     10.487806      2.892174   62397.405202       0.581654   \n",
       "min      350.000000     18.000000      0.000000       0.000000       1.000000   \n",
       "25%      584.000000     32.000000      3.000000       0.000000       1.000000   \n",
       "50%      652.000000     37.000000      5.000000   97198.540000       1.000000   \n",
       "75%      718.000000     44.000000      7.000000  127644.240000       2.000000   \n",
       "max      850.000000     92.000000     10.000000  250898.090000       4.000000   \n",
       "\n",
       "         HasCrCard  IsActiveMember  EstimatedSalary  \n",
       "count  10000.00000    10000.000000     10000.000000  \n",
       "mean       0.70550        0.515100    100090.239881  \n",
       "std        0.45584        0.499797     57510.492818  \n",
       "min        0.00000        0.000000        11.580000  \n",
       "25%        0.00000        0.000000     51002.110000  \n",
       "50%        1.00000        1.000000    100193.915000  \n",
       "75%        1.00000        1.000000    149388.247500  \n",
       "max        1.00000        1.000000    199992.480000  "
      ]
     },
     "execution_count": 6,
     "metadata": {},
     "output_type": "execute_result"
    }
   ],
   "source": [
    "x.describe()"
   ]
  },
  {
   "cell_type": "code",
   "execution_count": 7,
   "metadata": {},
   "outputs": [],
   "source": [
    "x= pd.get_dummies(x, drop_first=True)"
   ]
  },
  {
   "cell_type": "code",
   "execution_count": 8,
   "metadata": {},
   "outputs": [
    {
     "data": {
      "text/html": [
       "<div>\n",
       "<style scoped>\n",
       "    .dataframe tbody tr th:only-of-type {\n",
       "        vertical-align: middle;\n",
       "    }\n",
       "\n",
       "    .dataframe tbody tr th {\n",
       "        vertical-align: top;\n",
       "    }\n",
       "\n",
       "    .dataframe thead th {\n",
       "        text-align: right;\n",
       "    }\n",
       "</style>\n",
       "<table border=\"1\" class=\"dataframe\">\n",
       "  <thead>\n",
       "    <tr style=\"text-align: right;\">\n",
       "      <th></th>\n",
       "      <th>CreditScore</th>\n",
       "      <th>Age</th>\n",
       "      <th>Tenure</th>\n",
       "      <th>Balance</th>\n",
       "      <th>NumOfProducts</th>\n",
       "      <th>HasCrCard</th>\n",
       "      <th>IsActiveMember</th>\n",
       "      <th>EstimatedSalary</th>\n",
       "      <th>Geography_Germany</th>\n",
       "      <th>Geography_Spain</th>\n",
       "      <th>Gender_Male</th>\n",
       "    </tr>\n",
       "  </thead>\n",
       "  <tbody>\n",
       "    <tr>\n",
       "      <th>0</th>\n",
       "      <td>619</td>\n",
       "      <td>42</td>\n",
       "      <td>2</td>\n",
       "      <td>0.00</td>\n",
       "      <td>1</td>\n",
       "      <td>1</td>\n",
       "      <td>1</td>\n",
       "      <td>101348.88</td>\n",
       "      <td>0</td>\n",
       "      <td>0</td>\n",
       "      <td>0</td>\n",
       "    </tr>\n",
       "    <tr>\n",
       "      <th>1</th>\n",
       "      <td>608</td>\n",
       "      <td>41</td>\n",
       "      <td>1</td>\n",
       "      <td>83807.86</td>\n",
       "      <td>1</td>\n",
       "      <td>0</td>\n",
       "      <td>1</td>\n",
       "      <td>112542.58</td>\n",
       "      <td>0</td>\n",
       "      <td>1</td>\n",
       "      <td>0</td>\n",
       "    </tr>\n",
       "    <tr>\n",
       "      <th>2</th>\n",
       "      <td>502</td>\n",
       "      <td>42</td>\n",
       "      <td>8</td>\n",
       "      <td>159660.80</td>\n",
       "      <td>3</td>\n",
       "      <td>1</td>\n",
       "      <td>0</td>\n",
       "      <td>113931.57</td>\n",
       "      <td>0</td>\n",
       "      <td>0</td>\n",
       "      <td>0</td>\n",
       "    </tr>\n",
       "    <tr>\n",
       "      <th>3</th>\n",
       "      <td>699</td>\n",
       "      <td>39</td>\n",
       "      <td>1</td>\n",
       "      <td>0.00</td>\n",
       "      <td>2</td>\n",
       "      <td>0</td>\n",
       "      <td>0</td>\n",
       "      <td>93826.63</td>\n",
       "      <td>0</td>\n",
       "      <td>0</td>\n",
       "      <td>0</td>\n",
       "    </tr>\n",
       "    <tr>\n",
       "      <th>4</th>\n",
       "      <td>850</td>\n",
       "      <td>43</td>\n",
       "      <td>2</td>\n",
       "      <td>125510.82</td>\n",
       "      <td>1</td>\n",
       "      <td>1</td>\n",
       "      <td>1</td>\n",
       "      <td>79084.10</td>\n",
       "      <td>0</td>\n",
       "      <td>1</td>\n",
       "      <td>0</td>\n",
       "    </tr>\n",
       "  </tbody>\n",
       "</table>\n",
       "</div>"
      ],
      "text/plain": [
       "   CreditScore  Age  Tenure    Balance  NumOfProducts  HasCrCard  \\\n",
       "0          619   42       2       0.00              1          1   \n",
       "1          608   41       1   83807.86              1          0   \n",
       "2          502   42       8  159660.80              3          1   \n",
       "3          699   39       1       0.00              2          0   \n",
       "4          850   43       2  125510.82              1          1   \n",
       "\n",
       "   IsActiveMember  EstimatedSalary  Geography_Germany  Geography_Spain  \\\n",
       "0               1        101348.88                  0                0   \n",
       "1               1        112542.58                  0                1   \n",
       "2               0        113931.57                  0                0   \n",
       "3               0         93826.63                  0                0   \n",
       "4               1         79084.10                  0                1   \n",
       "\n",
       "   Gender_Male  \n",
       "0            0  \n",
       "1            0  \n",
       "2            0  \n",
       "3            0  \n",
       "4            0  "
      ]
     },
     "execution_count": 8,
     "metadata": {},
     "output_type": "execute_result"
    }
   ],
   "source": [
    "x.head()"
   ]
  },
  {
   "cell_type": "code",
   "execution_count": 9,
   "metadata": {},
   "outputs": [],
   "source": [
    "from sklearn.model_selection import train_test_split"
   ]
  },
  {
   "cell_type": "code",
   "execution_count": 10,
   "metadata": {},
   "outputs": [],
   "source": [
    "x_train, x_test, y_train, y_test= train_test_split(x,y, test_size= 0.2, random_state=0)"
   ]
  },
  {
   "cell_type": "code",
   "execution_count": 11,
   "metadata": {},
   "outputs": [],
   "source": [
    "from sklearn.preprocessing import StandardScaler\n",
    "scaler= StandardScaler()\n",
    "x_train= scaler.fit_transform(x_train)\n",
    "x_test= scaler.transform(x_test)"
   ]
  },
  {
   "cell_type": "code",
   "execution_count": 12,
   "metadata": {},
   "outputs": [],
   "source": [
    "ann= tf.keras.Sequential()"
   ]
  },
  {
   "cell_type": "code",
   "execution_count": 13,
   "metadata": {},
   "outputs": [],
   "source": [
    "ann.add(tf.keras.layers.Dense(units=6, activation= 'relu'))\n",
    "ann.add(tf.keras.layers.Dense(units=6, activation= 'relu'))"
   ]
  },
  {
   "cell_type": "code",
   "execution_count": 14,
   "metadata": {},
   "outputs": [],
   "source": [
    "ann.add(tf.keras.layers.Dense(units=1,activation='sigmoid'))"
   ]
  },
  {
   "cell_type": "code",
   "execution_count": 15,
   "metadata": {},
   "outputs": [],
   "source": [
    "ann.compile(optimizer='adam', loss='binary_crossentropy', metrics=['accuracy'])                      #adam is the keyword for stochastic gradient descent algo\n",
    "                                                                                                    #batch_size defines the number of batches into whoch the input is sent for for and back propagation in one epoch"
   ]
  },
  {
   "cell_type": "code",
   "execution_count": 16,
   "metadata": {},
   "outputs": [
    {
     "name": "stdout",
     "output_type": "stream",
     "text": [
      "Epoch 1/100\n",
      "400/400 [==============================] - 1s 506us/step - loss: 0.5142 - accuracy: 0.7958\n",
      "Epoch 2/100\n",
      "400/400 [==============================] - 0s 482us/step - loss: 0.4529 - accuracy: 0.7960\n",
      "Epoch 3/100\n",
      "400/400 [==============================] - 0s 425us/step - loss: 0.4384 - accuracy: 0.7984\n",
      "Epoch 4/100\n",
      "400/400 [==============================] - 0s 448us/step - loss: 0.4302 - accuracy: 0.8081\n",
      "Epoch 5/100\n",
      "400/400 [==============================] - 0s 462us/step - loss: 0.4245 - accuracy: 0.8158\n",
      "Epoch 6/100\n",
      "400/400 [==============================] - 0s 441us/step - loss: 0.4202 - accuracy: 0.8202\n",
      "Epoch 7/100\n",
      "400/400 [==============================] - 0s 468us/step - loss: 0.4169 - accuracy: 0.8224\n",
      "Epoch 8/100\n",
      "400/400 [==============================] - 0s 445us/step - loss: 0.4142 - accuracy: 0.8264\n",
      "Epoch 9/100\n",
      "400/400 [==============================] - 0s 416us/step - loss: 0.4117 - accuracy: 0.8278\n",
      "Epoch 10/100\n",
      "400/400 [==============================] - 0s 440us/step - loss: 0.4094 - accuracy: 0.8306\n",
      "Epoch 11/100\n",
      "400/400 [==============================] - 0s 430us/step - loss: 0.4071 - accuracy: 0.8321\n",
      "Epoch 12/100\n",
      "400/400 [==============================] - 0s 470us/step - loss: 0.4057 - accuracy: 0.8341\n",
      "Epoch 13/100\n",
      "400/400 [==============================] - 0s 431us/step - loss: 0.4044 - accuracy: 0.8347\n",
      "Epoch 14/100\n",
      "400/400 [==============================] - 0s 450us/step - loss: 0.4038 - accuracy: 0.8367\n",
      "Epoch 15/100\n",
      "400/400 [==============================] - 0s 430us/step - loss: 0.4024 - accuracy: 0.8363\n",
      "Epoch 16/100\n",
      "400/400 [==============================] - 0s 425us/step - loss: 0.4022 - accuracy: 0.8360\n",
      "Epoch 17/100\n",
      "400/400 [==============================] - 0s 424us/step - loss: 0.4013 - accuracy: 0.8384\n",
      "Epoch 18/100\n",
      "400/400 [==============================] - 0s 529us/step - loss: 0.4006 - accuracy: 0.8364\n",
      "Epoch 19/100\n",
      "400/400 [==============================] - 0s 400us/step - loss: 0.4006 - accuracy: 0.8366\n",
      "Epoch 20/100\n",
      "400/400 [==============================] - 0s 462us/step - loss: 0.3995 - accuracy: 0.8370\n",
      "Epoch 21/100\n",
      "400/400 [==============================] - 0s 420us/step - loss: 0.3991 - accuracy: 0.8379\n",
      "Epoch 22/100\n",
      "400/400 [==============================] - 0s 407us/step - loss: 0.3990 - accuracy: 0.8364\n",
      "Epoch 23/100\n",
      "400/400 [==============================] - 0s 435us/step - loss: 0.3987 - accuracy: 0.8369\n",
      "Epoch 24/100\n",
      "400/400 [==============================] - 0s 412us/step - loss: 0.3984 - accuracy: 0.8376\n",
      "Epoch 25/100\n",
      "400/400 [==============================] - 0s 405us/step - loss: 0.3976 - accuracy: 0.8374\n",
      "Epoch 26/100\n",
      "400/400 [==============================] - 0s 490us/step - loss: 0.3976 - accuracy: 0.8371\n",
      "Epoch 27/100\n",
      "400/400 [==============================] - 0s 460us/step - loss: 0.3972 - accuracy: 0.8382\n",
      "Epoch 28/100\n",
      "400/400 [==============================] - 0s 416us/step - loss: 0.3969 - accuracy: 0.8381\n",
      "Epoch 29/100\n",
      "400/400 [==============================] - 0s 430us/step - loss: 0.3969 - accuracy: 0.8390\n",
      "Epoch 30/100\n",
      "400/400 [==============================] - 0s 417us/step - loss: 0.3964 - accuracy: 0.8380\n",
      "Epoch 31/100\n",
      "400/400 [==============================] - 0s 438us/step - loss: 0.3961 - accuracy: 0.8390\n",
      "Epoch 32/100\n",
      "400/400 [==============================] - 0s 457us/step - loss: 0.3954 - accuracy: 0.8384\n",
      "Epoch 33/100\n",
      "400/400 [==============================] - 0s 392us/step - loss: 0.3950 - accuracy: 0.8388\n",
      "Epoch 34/100\n",
      "400/400 [==============================] - 0s 397us/step - loss: 0.3941 - accuracy: 0.8388\n",
      "Epoch 35/100\n",
      "400/400 [==============================] - 0s 380us/step - loss: 0.3931 - accuracy: 0.8391\n",
      "Epoch 36/100\n",
      "400/400 [==============================] - 0s 392us/step - loss: 0.3918 - accuracy: 0.8382\n",
      "Epoch 37/100\n",
      "400/400 [==============================] - 0s 382us/step - loss: 0.3901 - accuracy: 0.8400\n",
      "Epoch 38/100\n",
      "400/400 [==============================] - 0s 392us/step - loss: 0.3869 - accuracy: 0.8418\n",
      "Epoch 39/100\n",
      "400/400 [==============================] - 0s 400us/step - loss: 0.3794 - accuracy: 0.8457\n",
      "Epoch 40/100\n",
      "400/400 [==============================] - 0s 392us/step - loss: 0.3706 - accuracy: 0.8508\n",
      "Epoch 41/100\n",
      "400/400 [==============================] - 0s 393us/step - loss: 0.3626 - accuracy: 0.8549\n",
      "Epoch 42/100\n",
      "400/400 [==============================] - 0s 414us/step - loss: 0.3558 - accuracy: 0.8585\n",
      "Epoch 43/100\n",
      "400/400 [==============================] - 0s 409us/step - loss: 0.3498 - accuracy: 0.8612\n",
      "Epoch 44/100\n",
      "400/400 [==============================] - 0s 407us/step - loss: 0.3458 - accuracy: 0.8634\n",
      "Epoch 45/100\n",
      "400/400 [==============================] - 0s 394us/step - loss: 0.3436 - accuracy: 0.8637\n",
      "Epoch 46/100\n",
      "400/400 [==============================] - 0s 410us/step - loss: 0.3421 - accuracy: 0.8646\n",
      "Epoch 47/100\n",
      "400/400 [==============================] - 0s 450us/step - loss: 0.3410 - accuracy: 0.8634\n",
      "Epoch 48/100\n",
      "400/400 [==============================] - 0s 390us/step - loss: 0.3398 - accuracy: 0.8648\n",
      "Epoch 49/100\n",
      "400/400 [==============================] - 0s 467us/step - loss: 0.3393 - accuracy: 0.8651\n",
      "Epoch 50/100\n",
      "400/400 [==============================] - 0s 402us/step - loss: 0.3386 - accuracy: 0.8641\n",
      "Epoch 51/100\n",
      "400/400 [==============================] - 0s 481us/step - loss: 0.3380 - accuracy: 0.8639\n",
      "Epoch 52/100\n",
      "400/400 [==============================] - 0s 449us/step - loss: 0.3373 - accuracy: 0.8641\n",
      "Epoch 53/100\n",
      "400/400 [==============================] - 0s 400us/step - loss: 0.3372 - accuracy: 0.8633\n",
      "Epoch 54/100\n",
      "400/400 [==============================] - 0s 586us/step - loss: 0.3366 - accuracy: 0.8645\n",
      "Epoch 55/100\n",
      "400/400 [==============================] - 0s 387us/step - loss: 0.3360 - accuracy: 0.8633\n",
      "Epoch 56/100\n",
      "400/400 [==============================] - 0s 386us/step - loss: 0.3361 - accuracy: 0.8633\n",
      "Epoch 57/100\n",
      "400/400 [==============================] - 0s 390us/step - loss: 0.3357 - accuracy: 0.8639\n",
      "Epoch 58/100\n",
      "400/400 [==============================] - 0s 402us/step - loss: 0.3354 - accuracy: 0.8636\n",
      "Epoch 59/100\n",
      "400/400 [==============================] - 0s 377us/step - loss: 0.3353 - accuracy: 0.8649\n",
      "Epoch 60/100\n",
      "400/400 [==============================] - 0s 372us/step - loss: 0.3347 - accuracy: 0.8635\n",
      "Epoch 61/100\n",
      "400/400 [==============================] - 0s 415us/step - loss: 0.3349 - accuracy: 0.8640\n",
      "Epoch 62/100\n",
      "400/400 [==============================] - 0s 395us/step - loss: 0.3350 - accuracy: 0.8641\n",
      "Epoch 63/100\n",
      "400/400 [==============================] - 0s 368us/step - loss: 0.3345 - accuracy: 0.8626\n",
      "Epoch 64/100\n",
      "400/400 [==============================] - 0s 431us/step - loss: 0.3341 - accuracy: 0.8646\n",
      "Epoch 65/100\n",
      "400/400 [==============================] - 0s 392us/step - loss: 0.3346 - accuracy: 0.8637\n",
      "Epoch 66/100\n",
      "400/400 [==============================] - 0s 392us/step - loss: 0.3344 - accuracy: 0.8634\n",
      "Epoch 67/100\n",
      "400/400 [==============================] - 0s 354us/step - loss: 0.3345 - accuracy: 0.8619\n",
      "Epoch 68/100\n",
      "400/400 [==============================] - 0s 392us/step - loss: 0.3347 - accuracy: 0.8637\n",
      "Epoch 69/100\n",
      "400/400 [==============================] - 0s 353us/step - loss: 0.3342 - accuracy: 0.8631\n",
      "Epoch 70/100\n",
      "400/400 [==============================] - 0s 352us/step - loss: 0.3340 - accuracy: 0.8631\n",
      "Epoch 71/100\n",
      "400/400 [==============================] - 0s 392us/step - loss: 0.3341 - accuracy: 0.8643\n",
      "Epoch 72/100\n",
      "400/400 [==============================] - 0s 352us/step - loss: 0.3337 - accuracy: 0.8651\n",
      "Epoch 73/100\n",
      "400/400 [==============================] - 0s 392us/step - loss: 0.3338 - accuracy: 0.8652\n",
      "Epoch 74/100\n",
      "400/400 [==============================] - 0s 456us/step - loss: 0.3339 - accuracy: 0.8629\n",
      "Epoch 75/100\n",
      "400/400 [==============================] - 0s 356us/step - loss: 0.3332 - accuracy: 0.8633\n",
      "Epoch 76/100\n",
      "400/400 [==============================] - 0s 414us/step - loss: 0.3337 - accuracy: 0.8640\n",
      "Epoch 77/100\n",
      "400/400 [==============================] - 0s 477us/step - loss: 0.3333 - accuracy: 0.8648\n",
      "Epoch 78/100\n",
      "400/400 [==============================] - 0s 385us/step - loss: 0.3335 - accuracy: 0.8640\n",
      "Epoch 79/100\n",
      "400/400 [==============================] - 0s 465us/step - loss: 0.3333 - accuracy: 0.8643\n",
      "Epoch 80/100\n",
      "400/400 [==============================] - 0s 387us/step - loss: 0.3331 - accuracy: 0.8635\n",
      "Epoch 81/100\n",
      "400/400 [==============================] - 0s 375us/step - loss: 0.3329 - accuracy: 0.8648\n",
      "Epoch 82/100\n",
      "400/400 [==============================] - 0s 381us/step - loss: 0.3330 - accuracy: 0.8652\n",
      "Epoch 83/100\n",
      "400/400 [==============================] - 0s 375us/step - loss: 0.3330 - accuracy: 0.8646\n",
      "Epoch 84/100\n",
      "400/400 [==============================] - 0s 352us/step - loss: 0.3329 - accuracy: 0.8646\n",
      "Epoch 85/100\n",
      "400/400 [==============================] - 0s 353us/step - loss: 0.3327 - accuracy: 0.8643\n",
      "Epoch 86/100\n",
      "400/400 [==============================] - 0s 392us/step - loss: 0.3327 - accuracy: 0.8648\n",
      "Epoch 87/100\n",
      "400/400 [==============================] - 0s 392us/step - loss: 0.3326 - accuracy: 0.8651\n",
      "Epoch 88/100\n",
      "400/400 [==============================] - 0s 399us/step - loss: 0.3323 - accuracy: 0.8639\n",
      "Epoch 89/100\n",
      "400/400 [==============================] - 0s 372us/step - loss: 0.3328 - accuracy: 0.8654\n",
      "Epoch 90/100\n",
      "400/400 [==============================] - 0s 380us/step - loss: 0.3326 - accuracy: 0.8649\n",
      "Epoch 91/100\n",
      "400/400 [==============================] - 0s 377us/step - loss: 0.3325 - accuracy: 0.8654\n",
      "Epoch 92/100\n",
      "400/400 [==============================] - 0s 380us/step - loss: 0.3324 - accuracy: 0.8640\n",
      "Epoch 93/100\n",
      "400/400 [==============================] - 0s 375us/step - loss: 0.3321 - accuracy: 0.8658\n",
      "Epoch 94/100\n",
      "400/400 [==============================] - 0s 380us/step - loss: 0.3324 - accuracy: 0.8645\n",
      "Epoch 95/100\n",
      "400/400 [==============================] - 0s 350us/step - loss: 0.3324 - accuracy: 0.8660\n",
      "Epoch 96/100\n",
      "400/400 [==============================] - 0s 556us/step - loss: 0.3325 - accuracy: 0.8645\n",
      "Epoch 97/100\n",
      "400/400 [==============================] - 0s 350us/step - loss: 0.3321 - accuracy: 0.8656\n",
      "Epoch 98/100\n",
      "400/400 [==============================] - 0s 557us/step - loss: 0.3326 - accuracy: 0.8649\n",
      "Epoch 99/100\n",
      "400/400 [==============================] - 0s 389us/step - loss: 0.3318 - accuracy: 0.8648\n",
      "Epoch 100/100\n",
      "400/400 [==============================] - 0s 385us/step - loss: 0.3322 - accuracy: 0.8640\n"
     ]
    },
    {
     "data": {
      "text/plain": [
       "<tensorflow.python.keras.callbacks.History at 0x1ff8cc95220>"
      ]
     },
     "execution_count": 16,
     "metadata": {},
     "output_type": "execute_result"
    }
   ],
   "source": [
    "ann.fit(x_train, y_train, batch_size= 20, epochs=100)                                               #one epoch means one iteration over the wholen dataset"
   ]
  },
  {
   "cell_type": "code",
   "execution_count": 17,
   "metadata": {},
   "outputs": [
    {
     "data": {
      "text/plain": [
       "array([-0.55204276, -0.36890377,  1.04473698,  0.8793029 , -0.92159124,\n",
       "        0.64259497,  0.9687384 ,  1.61085707,  1.75486502, -0.57369368,\n",
       "       -1.09168714])"
      ]
     },
     "execution_count": 17,
     "metadata": {},
     "output_type": "execute_result"
    }
   ],
   "source": [
    "x_test[0]"
   ]
  },
  {
   "cell_type": "code",
   "execution_count": 18,
   "metadata": {},
   "outputs": [],
   "source": [
    "y_predict= ann.predict(x_test)"
   ]
  },
  {
   "cell_type": "code",
   "execution_count": 19,
   "metadata": {},
   "outputs": [
    {
     "data": {
      "text/plain": [
       "(2000, 1)"
      ]
     },
     "execution_count": 19,
     "metadata": {},
     "output_type": "execute_result"
    }
   ],
   "source": [
    "y_predict.shape"
   ]
  },
  {
   "cell_type": "code",
   "execution_count": 20,
   "metadata": {},
   "outputs": [],
   "source": [
    "from sklearn.metrics import accuracy_score, confusion_matrix"
   ]
  },
  {
   "cell_type": "code",
   "execution_count": 21,
   "metadata": {},
   "outputs": [
    {
     "data": {
      "text/plain": [
       "(2000,)"
      ]
     },
     "execution_count": 21,
     "metadata": {},
     "output_type": "execute_result"
    }
   ],
   "source": [
    "y_test.shape"
   ]
  },
  {
   "cell_type": "code",
   "execution_count": 22,
   "metadata": {},
   "outputs": [
    {
     "data": {
      "text/plain": [
       "array([[0.22186017],\n",
       "       [0.28986353],\n",
       "       [0.15652585],\n",
       "       ...,\n",
       "       [0.32806557],\n",
       "       [0.20670146],\n",
       "       [0.21981722]], dtype=float32)"
      ]
     },
     "execution_count": 22,
     "metadata": {},
     "output_type": "execute_result"
    }
   ],
   "source": [
    "y_predict"
   ]
  },
  {
   "cell_type": "code",
   "execution_count": 23,
   "metadata": {},
   "outputs": [
    {
     "data": {
      "text/plain": [
       "numpy.ndarray"
      ]
     },
     "execution_count": 23,
     "metadata": {},
     "output_type": "execute_result"
    }
   ],
   "source": [
    "type(ann.predict(x_test))"
   ]
  },
  {
   "cell_type": "code",
   "execution_count": 24,
   "metadata": {},
   "outputs": [
    {
     "data": {
      "text/plain": [
       "pandas.core.series.Series"
      ]
     },
     "execution_count": 24,
     "metadata": {},
     "output_type": "execute_result"
    }
   ],
   "source": [
    "type(y_test)"
   ]
  },
  {
   "cell_type": "code",
   "execution_count": 26,
   "metadata": {},
   "outputs": [
    {
     "data": {
      "text/plain": [
       "0.8625"
      ]
     },
     "execution_count": 26,
     "metadata": {},
     "output_type": "execute_result"
    }
   ],
   "source": [
    "accuracy_score(y_test, y_predict.round())"
   ]
  },
  {
   "cell_type": "code",
   "execution_count": null,
   "metadata": {},
   "outputs": [],
   "source": []
  }
 ],
 "metadata": {
  "interpreter": {
   "hash": "b83752dd2351e549d4486d00579c2754387b6552781a235cfc636d34e5e38ea9"
  },
  "kernelspec": {
   "display_name": "Python 3.9.5 64-bit",
   "name": "python3"
  },
  "language_info": {
   "codemirror_mode": {
    "name": "ipython",
    "version": 3
   },
   "file_extension": ".py",
   "mimetype": "text/x-python",
   "name": "python",
   "nbconvert_exporter": "python",
   "pygments_lexer": "ipython3",
   "version": "3.9.5"
  },
  "orig_nbformat": 4
 },
 "nbformat": 4,
 "nbformat_minor": 2
}
